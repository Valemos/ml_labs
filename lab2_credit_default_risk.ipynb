{
 "cells": [
  {
   "cell_type": "code",
   "execution_count": 1,
   "metadata": {},
   "outputs": [],
   "source": [
    "from pathlib import Path\n",
    "import pandas as pd\n",
    "import numpy as np"
   ]
  },
  {
   "cell_type": "code",
   "execution_count": 2,
   "metadata": {},
   "outputs": [],
   "source": [
    "path_data_folder = Path(r\"D:\\coding\\Jupyter_notebooks\\ML\\credit_risk_data\")\n",
    "path_train = path_data_folder / \"application_train.csv\"\n",
    "path_test = path_data_folder / \"application_test.csv\"\n",
    "path_col_description = path_data_folder / \"HomeCredit_columns_description.csv\""
   ]
  },
  {
   "cell_type": "code",
   "execution_count": 3,
   "metadata": {},
   "outputs": [],
   "source": [
    "# create sklearn data pipeline using EDA results\n",
    "\n",
    "from sklearn.base import TransformerMixin, BaseEstimator\n",
    "\n",
    "class PrimaryTransformer(TransformerMixin, BaseEstimator):\n",
    "    unnecessary_columns = [\"SK_ID_CURR\",\"NAME_TYPE_SUITE\",\"DAYS_BIRTH\",\"DAYS_EMPLOYED\",\"DAYS_REGISTRATION\",\"DAYS_ID_PUBLISH\",\"WEEKDAY_APPR_PROCESS_START\",\"HOUR_APPR_PROCESS_START\",\"REGION_RATING_CLIENT\",\"DAYS_LAST_PHONE_CHANGE\",\"OBS_30_CNT_SOCIAL_CIRCLE\",\"DEF_30_CNT_SOCIAL_CIRCLE\",\"OBS_60_CNT_SOCIAL_CIRCLE\",\"FLAG_MOBIL\",\"FLAG_EMP_PHONE\",\"FLAG_WORK_PHONE\",\"FLAG_PHONE\",\"FLAG_EMAIL\",\"FLAG_CONT_MOBILE\"]\n",
    "    feat_categorical = {\"TARGET\", \"NAME_CONTRACT_TYPE\",  \"CODE_GENDER\",  \"FLAG_OWN_CAR\",  \"FLAG_OWN_REALTY\",  \"NAME_INCOME_TYPE\",  \"NAME_EDUCATION_TYPE\",  \"NAME_FAMILY_STATUS\",  \"NAME_HOUSING_TYPE\", \"OCCUPATION_TYPE\", \"REGION_RATING_CLIENT_W_CITY\", \"REG_REGION_NOT_LIVE_REGION\", \"REG_REGION_NOT_WORK_REGION\", \"LIVE_REGION_NOT_WORK_REGION\", \"REG_CITY_NOT_LIVE_CITY\", \"REG_CITY_NOT_WORK_CITY\", \"LIVE_CITY_NOT_WORK_CITY\", \"ORGANIZATION_TYPE\"}\n",
    "    feat_high_correlating = [\"CNT_CHILDREN\", \"AMT_GOODS_PRICE\", \"AMT_ANNUITY\"]\n",
    "    \n",
    "    def transform(self, X, **transform_params):\n",
    "        X.drop(columns=self.unnecessary_columns, inplace=True)\n",
    "        X.drop(columns=self.feat_high_correlating, inplace=True)\n",
    "        X.drop(columns=[i for i in X.columns if i.startswith(\"FLAG_DOCUMENT_\")], inplace=True)\n",
    "        \n",
    "        for feature in self.feat_categorical:\n",
    "            X[feature] = X[feature].astype(\"category\")\n",
    "        return X\n",
    "    \n",
    "class RequestsColumnTransformer(BaseEstimator, TransformerMixin):\n",
    "    requests_columns = [\"AMT_REQ_CREDIT_BUREAU_HOUR\",\"AMT_REQ_CREDIT_BUREAU_DAY\",\"AMT_REQ_CREDIT_BUREAU_WEEK\",\"AMT_REQ_CREDIT_BUREAU_MON\",\"AMT_REQ_CREDIT_BUREAU_QRT\",\"AMT_REQ_CREDIT_BUREAU_YEAR\"]\n",
    "    new_requests_col = \"AMT_REQ_CREDIT_BUREAU\"\n",
    "    \n",
    "    def transform(self, X, **transform_params):\n",
    "        X[\"AMT_REQ_CREDIT_BUREAU\"] = np.sum(X[self.requests_columns], axis=1)\n",
    "        X.drop(columns=self.requests_columns, inplace=True)\n",
    "        return X\n",
    "\n",
    "class BuildingColumnsTransformer(BaseEstimator, TransformerMixin):\n",
    "    building_columns = [\"APARTMENTS_AVG\",\"BASEMENTAREA_AVG\",\"YEARS_BEGINEXPLUATATION_AVG\",\"YEARS_BUILD_AVG\",\"COMMONAREA_AVG\",\"ELEVATORS_AVG\",\"ENTRANCES_AVG\",\"FLOORSMAX_AVG\",\"FLOORSMIN_AVG\",\"LANDAREA_AVG\",\"LIVINGAPARTMENTS_AVG\",\"LIVINGAREA_AVG\",\"NONLIVINGAPARTMENTS_AVG\",\"NONLIVINGAREA_AVG\",\"APARTMENTS_MODE\",\"BASEMENTAREA_MODE\",\"YEARS_BEGINEXPLUATATION_MODE\",\"YEARS_BUILD_MODE\",\"COMMONAREA_MODE\",\"ELEVATORS_MODE\",\"ENTRANCES_MODE\",\"FLOORSMAX_MODE\",\"FLOORSMIN_MODE\",\"LANDAREA_MODE\",\"LIVINGAPARTMENTS_MODE\",\"LIVINGAREA_MODE\",\"NONLIVINGAPARTMENTS_MODE\",\"NONLIVINGAREA_MODE\",\"APARTMENTS_MEDI\",\"BASEMENTAREA_MEDI\",\"YEARS_BEGINEXPLUATATION_MEDI\",\"YEARS_BUILD_MEDI\",\"COMMONAREA_MEDI\",\"ELEVATORS_MEDI\",\"ENTRANCES_MEDI\",\"FLOORSMAX_MEDI\",\"FLOORSMIN_MEDI\",\"LANDAREA_MEDI\",\"LIVINGAPARTMENTS_MEDI\",\"LIVINGAREA_MEDI\",\"NONLIVINGAPARTMENTS_MEDI\",\"NONLIVINGAREA_MEDI\",\"FONDKAPREMONT_MODE\",\"HOUSETYPE_MODE\",\"TOTALAREA_MODE\",\"WALLSMATERIAL_MODE\",\"EMERGENCYSTATE_MODE\"]\n",
    "    \n",
    "    def transform(self, X, **params):\n",
    "        X[\"BUILDING_INFO_AVAILABLE\"] = ~X[self.building_columns].isnull().any(axis=1)\n",
    "        X.drop(columns=self.building_columns, inplace=True)\n",
    "        return X\n",
    "\n",
    "class CarOwnAgeTransformer(BaseEstimator, TransformerMixin):\n",
    "    def transform(self, X, **params):\n",
    "        X[\"FLAG_OWN_CAR\"] = ~X[\"OWN_CAR_AGE\"].isnull()\n",
    "        X.drop(columns=[\"OWN_CAR_AGE\"], inplace=True)\n",
    "        return X\n",
    "    \n",
    "class DropExternalSourcesColumns(BaseEstimator, TransformerMixin):\n",
    "    \n",
    "    def transform(self, X, **params):\n",
    "        X.drop(columns=[col for col in X.columns if col.startswith(\"EXT_SOURCE_\")], inplace=True)\n",
    "        return X\n",
    "    \n",
    "    def fit(self, X, y=None, **params):\n",
    "        return X"
   ]
  },
  {
   "cell_type": "code",
   "execution_count": 4,
   "metadata": {},
   "outputs": [],
   "source": [
    "from sklearn.pipeline import Pipeline, make_pipeline\n",
    "\n",
    "data_pipeline = make_pipeline(\n",
    "    PrimaryTransformer(),\n",
    "    CarOwnAgeTransformer(),\n",
    "    RequestsColumnTransformer(),\n",
    "    BuildingColumnsTransformer(),\n",
    "    DropExternalSourcesColumns()\n",
    ")"
   ]
  },
  {
   "cell_type": "code",
   "execution_count": null,
   "metadata": {},
   "outputs": [],
   "source": [
    "data_original = pd.read_csv(path_train)"
   ]
  },
  {
   "cell_type": "code",
   "execution_count": 7,
   "metadata": {},
   "outputs": [],
   "source": [
    "data = data_pipeline.transform(data_original.copy())"
   ]
  },
  {
   "cell_type": "code",
   "execution_count": null,
   "metadata": {},
   "outputs": [],
   "source": [
    "data.describe()"
   ]
  },
  {
   "cell_type": "code",
   "execution_count": null,
   "metadata": {},
   "outputs": [],
   "source": []
  }
 ],
 "metadata": {
  "kernelspec": {
   "display_name": "Python ML",
   "language": "python",
   "name": "envml"
  },
  "language_info": {
   "codemirror_mode": {
    "name": "ipython",
    "version": 3
   },
   "file_extension": ".py",
   "mimetype": "text/x-python",
   "name": "python",
   "nbconvert_exporter": "python",
   "pygments_lexer": "ipython3",
   "version": "3.8.6"
  }
 },
 "nbformat": 4,
 "nbformat_minor": 4
}