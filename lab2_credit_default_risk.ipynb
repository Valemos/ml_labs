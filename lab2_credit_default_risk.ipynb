{
 "cells": [
  {
   "cell_type": "code",
   "execution_count": 38,
   "metadata": {},
   "outputs": [],
   "source": [
    "from pathlib import Path\n",
    "import pandas as pd\n",
    "import numpy as np\n",
    "import matplotlib.pyplot as plt\n",
    "import seaborn as sns"
   ]
  },
  {
   "cell_type": "code",
   "execution_count": 2,
   "metadata": {},
   "outputs": [],
   "source": [
    "path_data_folder = Path(r\"D:\\coding\\Jupyter_notebooks\\ML\\credit_risk_data\")\n",
    "path_train = path_data_folder / \"application_train.csv\"\n",
    "path_test = path_data_folder / \"application_test.csv\"\n",
    "path_col_description = path_data_folder / \"HomeCredit_columns_description.csv\""
   ]
  },
  {
   "cell_type": "code",
   "execution_count": 3,
   "outputs": [],
   "source": [
    "data_original = pd.read_csv(path_train)"
   ],
   "metadata": {
    "collapsed": false,
    "pycharm": {
     "name": "#%%\n"
    }
   }
  },
  {
   "cell_type": "code",
   "execution_count": 9,
   "metadata": {
    "pycharm": {
     "name": "#%%\n"
    }
   },
   "outputs": [],
   "source": [
    "# create sklearn data pipeline using EDA results\n",
    "\n",
    "from sklearn.base import TransformerMixin, BaseEstimator\n",
    "from sklearn.pipeline import make_pipeline\n",
    "\n",
    "\n",
    "class PrimaryTransformer(TransformerMixin, BaseEstimator):\n",
    "    unnecessary_columns = [\"SK_ID_CURR\",\"NAME_TYPE_SUITE\",\"DAYS_BIRTH\",\"DAYS_EMPLOYED\",\"DAYS_REGISTRATION\",\"DAYS_ID_PUBLISH\",\"WEEKDAY_APPR_PROCESS_START\",\"HOUR_APPR_PROCESS_START\",\"REGION_RATING_CLIENT\",\"DAYS_LAST_PHONE_CHANGE\",\"OBS_30_CNT_SOCIAL_CIRCLE\",\"DEF_30_CNT_SOCIAL_CIRCLE\",\"OBS_60_CNT_SOCIAL_CIRCLE\",\"FLAG_MOBIL\",\"FLAG_EMP_PHONE\",\"FLAG_WORK_PHONE\",\"FLAG_PHONE\",\"FLAG_EMAIL\",\"FLAG_CONT_MOBILE\"]\n",
    "    feat_categorical = {\"TARGET\", \"NAME_CONTRACT_TYPE\",  \"CODE_GENDER\",  \"FLAG_OWN_CAR\",  \"FLAG_OWN_REALTY\",  \"NAME_INCOME_TYPE\",  \"NAME_EDUCATION_TYPE\",  \"NAME_FAMILY_STATUS\",  \"NAME_HOUSING_TYPE\", \"OCCUPATION_TYPE\", \"REGION_RATING_CLIENT_W_CITY\", \"REG_REGION_NOT_LIVE_REGION\", \"REG_REGION_NOT_WORK_REGION\", \"LIVE_REGION_NOT_WORK_REGION\", \"REG_CITY_NOT_LIVE_CITY\", \"REG_CITY_NOT_WORK_CITY\", \"LIVE_CITY_NOT_WORK_CITY\", \"ORGANIZATION_TYPE\"}\n",
    "    feat_high_correlating = [\"CNT_CHILDREN\", \"AMT_GOODS_PRICE\", \"AMT_ANNUITY\"]\n",
    "    \n",
    "    def transform(self, X, **transform_params):\n",
    "        X.drop(columns=self.unnecessary_columns, inplace=True)\n",
    "        X.drop(columns=self.feat_high_correlating, inplace=True)\n",
    "        X.drop(columns=[i for i in X.columns if i.startswith(\"FLAG_DOCUMENT_\")], inplace=True)\n",
    "        \n",
    "        for feature in self.feat_categorical:\n",
    "            X[feature] = X[feature].astype(\"category\")\n",
    "        return X\n",
    "\n",
    "\n",
    "class DropExternalSourcesColumns(BaseEstimator, TransformerMixin):\n",
    "\n",
    "    def transform(self, X, **params):\n",
    "        X.drop(columns=[col for col in X.columns if col.startswith(\"EXT_SOURCE_\")], inplace=True)\n",
    "        return X\n",
    "\n",
    "\n",
    "class RequestsColumnTransformer(BaseEstimator, TransformerMixin):\n",
    "    requests_columns = [\"AMT_REQ_CREDIT_BUREAU_HOUR\",\"AMT_REQ_CREDIT_BUREAU_DAY\",\"AMT_REQ_CREDIT_BUREAU_WEEK\",\"AMT_REQ_CREDIT_BUREAU_MON\",\"AMT_REQ_CREDIT_BUREAU_QRT\",\"AMT_REQ_CREDIT_BUREAU_YEAR\"]\n",
    "    new_requests_col = \"AMT_REQ_CREDIT_BUREAU\"\n",
    "\n",
    "    def transform(self, df, **transform_params):\n",
    "        df[\"AMT_REQ_CREDIT_BUREAU\"] = np.sum(df[self.requests_columns], axis=1)\n",
    "        df.drop(columns=self.requests_columns, inplace=True)\n",
    "        return df\n",
    "\n",
    "\n",
    "class BuildingColumnsTransformer(BaseEstimator, TransformerMixin):\n",
    "    building_columns = [\"APARTMENTS_AVG\",\"BASEMENTAREA_AVG\",\"YEARS_BEGINEXPLUATATION_AVG\",\"YEARS_BUILD_AVG\",\"COMMONAREA_AVG\",\"ELEVATORS_AVG\",\"ENTRANCES_AVG\",\"FLOORSMAX_AVG\",\"FLOORSMIN_AVG\",\"LANDAREA_AVG\",\"LIVINGAPARTMENTS_AVG\",\"LIVINGAREA_AVG\",\"NONLIVINGAPARTMENTS_AVG\",\"NONLIVINGAREA_AVG\",\"APARTMENTS_MODE\",\"BASEMENTAREA_MODE\",\"YEARS_BEGINEXPLUATATION_MODE\",\"YEARS_BUILD_MODE\",\"COMMONAREA_MODE\",\"ELEVATORS_MODE\",\"ENTRANCES_MODE\",\"FLOORSMAX_MODE\",\"FLOORSMIN_MODE\",\"LANDAREA_MODE\",\"LIVINGAPARTMENTS_MODE\",\"LIVINGAREA_MODE\",\"NONLIVINGAPARTMENTS_MODE\",\"NONLIVINGAREA_MODE\",\"APARTMENTS_MEDI\",\"BASEMENTAREA_MEDI\",\"YEARS_BEGINEXPLUATATION_MEDI\",\"YEARS_BUILD_MEDI\",\"COMMONAREA_MEDI\",\"ELEVATORS_MEDI\",\"ENTRANCES_MEDI\",\"FLOORSMAX_MEDI\",\"FLOORSMIN_MEDI\",\"LANDAREA_MEDI\",\"LIVINGAPARTMENTS_MEDI\",\"LIVINGAREA_MEDI\",\"NONLIVINGAPARTMENTS_MEDI\",\"NONLIVINGAREA_MEDI\",\"FONDKAPREMONT_MODE\",\"HOUSETYPE_MODE\",\"TOTALAREA_MODE\",\"WALLSMATERIAL_MODE\",\"EMERGENCYSTATE_MODE\"]\n",
    "\n",
    "    def transform(self, df, **params):\n",
    "        df[\"BUILDING_INFO_AVAILABLE\"] = ~df[self.building_columns].isnull().any(axis=1)\n",
    "        df.drop(columns=self.building_columns, inplace=True)\n",
    "        return df\n",
    "\n",
    "\n",
    "class CarOwnAgeTransformer(BaseEstimator, TransformerMixin):\n",
    "    flag_own_car = \"FLAG_OWN_CAR\"\n",
    "    own_car_age = \"OWN_CAR_AGE\"\n",
    "\n",
    "    def transform(self, df, **params):\n",
    "        df[self.flag_own_car] = ~df[self.own_car_age].isnull()\n",
    "        df[self.flag_own_car] = df[self.flag_own_car].astype(\"int8\")\n",
    "        df.drop(columns=[self.own_car_age], inplace=True)\n",
    "        return df\n",
    "\n",
    "class DropOutliers(BaseEstimator, TransformerMixin):\n",
    "\n",
    "    def transform(self, df, **params):\n",
    "        df.drop(index=np.where(df[\"AMT_INCOME_TOTAL\"] > 2.025e+05)[0], inplace=True)\n",
    "        df.drop(index=np.where(df[\"CODE_GENDER\"] == \"XNA\")[0], inplace=True)\n",
    "        return df\n",
    "\n",
    "    def fit(self, X, y=None, **fit_params):\n",
    "        return self\n",
    "\n",
    "\n",
    "class EncodeBinaryCategoricalValues(BaseEstimator, TransformerMixin):\n",
    "\n",
    "    def transform(self, df, **params):\n",
    "        categorical_features = df.select_dtypes(\"category\")\n",
    "\n",
    "        for feature in categorical_features.columns:\n",
    "            if len(df[feature].unique()) == 2:\n",
    "                df[feature] = df[feature].cat.codes\n",
    "        return df\n",
    "\n",
    "\n",
    "class EncodeOtherCategoricalValues(BaseEstimator, TransformerMixin):\n",
    "\n",
    "    def transform(self, df: pd.DataFrame, **params):\n",
    "        categorical_features = df.select_dtypes(\"category\")\n",
    "        dummies = pd.get_dummies(categorical_features)\n",
    "        return pd.concat([df.drop(columns=categorical_features.columns), dummies], axis=1)\n",
    "\n",
    "    def fit(self, df, y=None, **params):\n",
    "        return self\n",
    "\n",
    "\n",
    "data_prepare_pipeline = make_pipeline(\n",
    "    PrimaryTransformer(),\n",
    "    DropExternalSourcesColumns(),\n",
    "    CarOwnAgeTransformer(),\n",
    "    RequestsColumnTransformer(),\n",
    "    BuildingColumnsTransformer(),\n",
    "    DropOutliers(),\n",
    "    'passthrough'\n",
    ")\n",
    "\n",
    "data_train_pipeline = make_pipeline(\n",
    "    data_prepare_pipeline,\n",
    "    EncodeBinaryCategoricalValues(),\n",
    "    EncodeOtherCategoricalValues()\n",
    ")"
   ]
  },
  {
   "cell_type": "code",
   "execution_count": null,
   "outputs": [],
   "source": [
    "data = data_prepare_pipeline.transform(data_original.copy(deep=True))"
   ],
   "metadata": {
    "collapsed": false,
    "pycharm": {
     "name": "#%%\n"
    }
   }
  },
  {
   "cell_type": "code",
   "execution_count": 50,
   "outputs": [
    {
     "data": {
      "text/plain": "               TARGET  NAME_CONTRACT_TYPE   FLAG_OWN_CAR  FLAG_OWN_REALTY  \\\ncount   235973.000000       235973.000000  235973.000000    235973.000000   \nunique            NaN                 NaN            NaN              NaN   \ntop               NaN                 NaN            NaN              NaN   \nfreq              NaN                 NaN            NaN              NaN   \nmean         0.084255            0.098032       0.294941         0.692850   \nstd          0.277771            0.297359       0.456017         0.461313   \nmin          0.000000            0.000000       0.000000         0.000000   \n25%          0.000000            0.000000       0.000000         0.000000   \n50%          0.000000            0.000000       0.000000         1.000000   \n75%          0.000000            0.000000       1.000000         1.000000   \nmax          1.000000            1.000000       1.000000         1.000000   \n\n        AMT_INCOME_TOTAL    AMT_CREDIT  REGION_POPULATION_RELATIVE  \\\ncount      235973.000000  2.359730e+05               235973.000000   \nunique               NaN           NaN                         NaN   \ntop                  NaN           NaN                         NaN   \nfreq                 NaN           NaN                         NaN   \nmean       129582.587567  5.275367e+05                    0.019646   \nstd         41057.017525  3.485555e+05                    0.011899   \nmin         25650.000000  4.500000e+04                    0.000290   \n25%         94500.000000  2.547000e+05                    0.010006   \n50%        135000.000000  4.500000e+05                    0.018850   \n75%        157500.000000  7.239960e+05                    0.026392   \nmax        202500.000000  2.980521e+06                    0.072508   \n\n        CNT_FAM_MEMBERS  REG_REGION_NOT_LIVE_REGION  \\\ncount     235972.000000               235973.000000   \nunique              NaN                         NaN   \ntop                 NaN                         NaN   \nfreq                NaN                         NaN   \nmean           2.137673                    0.010590   \nstd            0.910635                    0.102363   \nmin            1.000000                    0.000000   \n25%            2.000000                    0.000000   \n50%            2.000000                    0.000000   \n75%            3.000000                    0.000000   \nmax           20.000000                    1.000000   \n\n        REG_REGION_NOT_WORK_REGION  ...  ORGANIZATION_TYPE_Trade: type 4  \\\ncount                235973.000000  ...                    235973.000000   \nunique                         NaN  ...                              NaN   \ntop                            NaN  ...                              NaN   \nfreq                           NaN  ...                              NaN   \nmean                      0.033957  ...                         0.000178   \nstd                       0.181120  ...                         0.013340   \nmin                       0.000000  ...                         0.000000   \n25%                       0.000000  ...                         0.000000   \n50%                       0.000000  ...                         0.000000   \n75%                       0.000000  ...                         0.000000   \nmax                       1.000000  ...                         1.000000   \n\n        ORGANIZATION_TYPE_Trade: type 5  ORGANIZATION_TYPE_Trade: type 6  \\\ncount                     235973.000000                    235973.000000   \nunique                              NaN                              NaN   \ntop                                 NaN                              NaN   \nfreq                                NaN                              NaN   \nmean                           0.000157                         0.001941   \nstd                            0.012521                         0.044013   \nmin                            0.000000                         0.000000   \n25%                            0.000000                         0.000000   \n50%                            0.000000                         0.000000   \n75%                            0.000000                         0.000000   \nmax                            1.000000                         1.000000   \n\n        ORGANIZATION_TYPE_Trade: type 7  ORGANIZATION_TYPE_Transport: type 1  \\\ncount                     235973.000000                        235973.000000   \nunique                              NaN                                  NaN   \ntop                                 NaN                                  NaN   \nfreq                                NaN                                  NaN   \nmean                           0.025736                             0.000585   \nstd                            0.158347                             0.024176   \nmin                            0.000000                             0.000000   \n25%                            0.000000                             0.000000   \n50%                            0.000000                             0.000000   \n75%                            0.000000                             0.000000   \nmax                            1.000000                             1.000000   \n\n        ORGANIZATION_TYPE_Transport: type 2  \\\ncount                         235973.000000   \nunique                                  NaN   \ntop                                     NaN   \nfreq                                    NaN   \nmean                               0.007073   \nstd                                0.083802   \nmin                                0.000000   \n25%                                0.000000   \n50%                                0.000000   \n75%                                0.000000   \nmax                                1.000000   \n\n       ORGANIZATION_TYPE_Transport: type 3  \\\ncount                        235973.000000   \nunique                                 NaN   \ntop                                    NaN   \nfreq                                   NaN   \nmean                              0.003801   \nstd                               0.061537   \nmin                               0.000000   \n25%                               0.000000   \n50%                               0.000000   \n75%                               0.000000   \nmax                               1.000000   \n\n        ORGANIZATION_TYPE_Transport: type 4  ORGANIZATION_TYPE_University  \\\ncount                         235973.000000                 235973.000000   \nunique                                  NaN                           NaN   \ntop                                     NaN                           NaN   \nfreq                                    NaN                           NaN   \nmean                               0.015434                      0.003924   \nstd                                0.123271                      0.062520   \nmin                                0.000000                      0.000000   \n25%                                0.000000                      0.000000   \n50%                                0.000000                      0.000000   \n75%                                0.000000                      0.000000   \nmax                                1.000000                      1.000000   \n\n        ORGANIZATION_TYPE_XNA  \ncount           235973.000000  \nunique                    NaN  \ntop                       NaN  \nfreq                      NaN  \nmean                 0.203523  \nstd                  0.402619  \nmin                  0.000000  \n25%                  0.000000  \n50%                  0.000000  \n75%                  0.000000  \nmax                  1.000000  \n\n[11 rows x 124 columns]",
      "text/html": "<div>\n<style scoped>\n    .dataframe tbody tr th:only-of-type {\n        vertical-align: middle;\n    }\n\n    .dataframe tbody tr th {\n        vertical-align: top;\n    }\n\n    .dataframe thead th {\n        text-align: right;\n    }\n</style>\n<table border=\"1\" class=\"dataframe\">\n  <thead>\n    <tr style=\"text-align: right;\">\n      <th></th>\n      <th>TARGET</th>\n      <th>NAME_CONTRACT_TYPE</th>\n      <th>FLAG_OWN_CAR</th>\n      <th>FLAG_OWN_REALTY</th>\n      <th>AMT_INCOME_TOTAL</th>\n      <th>AMT_CREDIT</th>\n      <th>REGION_POPULATION_RELATIVE</th>\n      <th>CNT_FAM_MEMBERS</th>\n      <th>REG_REGION_NOT_LIVE_REGION</th>\n      <th>REG_REGION_NOT_WORK_REGION</th>\n      <th>...</th>\n      <th>ORGANIZATION_TYPE_Trade: type 4</th>\n      <th>ORGANIZATION_TYPE_Trade: type 5</th>\n      <th>ORGANIZATION_TYPE_Trade: type 6</th>\n      <th>ORGANIZATION_TYPE_Trade: type 7</th>\n      <th>ORGANIZATION_TYPE_Transport: type 1</th>\n      <th>ORGANIZATION_TYPE_Transport: type 2</th>\n      <th>ORGANIZATION_TYPE_Transport: type 3</th>\n      <th>ORGANIZATION_TYPE_Transport: type 4</th>\n      <th>ORGANIZATION_TYPE_University</th>\n      <th>ORGANIZATION_TYPE_XNA</th>\n    </tr>\n  </thead>\n  <tbody>\n    <tr>\n      <th>count</th>\n      <td>235973.000000</td>\n      <td>235973.000000</td>\n      <td>235973.000000</td>\n      <td>235973.000000</td>\n      <td>235973.000000</td>\n      <td>2.359730e+05</td>\n      <td>235973.000000</td>\n      <td>235972.000000</td>\n      <td>235973.000000</td>\n      <td>235973.000000</td>\n      <td>...</td>\n      <td>235973.000000</td>\n      <td>235973.000000</td>\n      <td>235973.000000</td>\n      <td>235973.000000</td>\n      <td>235973.000000</td>\n      <td>235973.000000</td>\n      <td>235973.000000</td>\n      <td>235973.000000</td>\n      <td>235973.000000</td>\n      <td>235973.000000</td>\n    </tr>\n    <tr>\n      <th>unique</th>\n      <td>NaN</td>\n      <td>NaN</td>\n      <td>NaN</td>\n      <td>NaN</td>\n      <td>NaN</td>\n      <td>NaN</td>\n      <td>NaN</td>\n      <td>NaN</td>\n      <td>NaN</td>\n      <td>NaN</td>\n      <td>...</td>\n      <td>NaN</td>\n      <td>NaN</td>\n      <td>NaN</td>\n      <td>NaN</td>\n      <td>NaN</td>\n      <td>NaN</td>\n      <td>NaN</td>\n      <td>NaN</td>\n      <td>NaN</td>\n      <td>NaN</td>\n    </tr>\n    <tr>\n      <th>top</th>\n      <td>NaN</td>\n      <td>NaN</td>\n      <td>NaN</td>\n      <td>NaN</td>\n      <td>NaN</td>\n      <td>NaN</td>\n      <td>NaN</td>\n      <td>NaN</td>\n      <td>NaN</td>\n      <td>NaN</td>\n      <td>...</td>\n      <td>NaN</td>\n      <td>NaN</td>\n      <td>NaN</td>\n      <td>NaN</td>\n      <td>NaN</td>\n      <td>NaN</td>\n      <td>NaN</td>\n      <td>NaN</td>\n      <td>NaN</td>\n      <td>NaN</td>\n    </tr>\n    <tr>\n      <th>freq</th>\n      <td>NaN</td>\n      <td>NaN</td>\n      <td>NaN</td>\n      <td>NaN</td>\n      <td>NaN</td>\n      <td>NaN</td>\n      <td>NaN</td>\n      <td>NaN</td>\n      <td>NaN</td>\n      <td>NaN</td>\n      <td>...</td>\n      <td>NaN</td>\n      <td>NaN</td>\n      <td>NaN</td>\n      <td>NaN</td>\n      <td>NaN</td>\n      <td>NaN</td>\n      <td>NaN</td>\n      <td>NaN</td>\n      <td>NaN</td>\n      <td>NaN</td>\n    </tr>\n    <tr>\n      <th>mean</th>\n      <td>0.084255</td>\n      <td>0.098032</td>\n      <td>0.294941</td>\n      <td>0.692850</td>\n      <td>129582.587567</td>\n      <td>5.275367e+05</td>\n      <td>0.019646</td>\n      <td>2.137673</td>\n      <td>0.010590</td>\n      <td>0.033957</td>\n      <td>...</td>\n      <td>0.000178</td>\n      <td>0.000157</td>\n      <td>0.001941</td>\n      <td>0.025736</td>\n      <td>0.000585</td>\n      <td>0.007073</td>\n      <td>0.003801</td>\n      <td>0.015434</td>\n      <td>0.003924</td>\n      <td>0.203523</td>\n    </tr>\n    <tr>\n      <th>std</th>\n      <td>0.277771</td>\n      <td>0.297359</td>\n      <td>0.456017</td>\n      <td>0.461313</td>\n      <td>41057.017525</td>\n      <td>3.485555e+05</td>\n      <td>0.011899</td>\n      <td>0.910635</td>\n      <td>0.102363</td>\n      <td>0.181120</td>\n      <td>...</td>\n      <td>0.013340</td>\n      <td>0.012521</td>\n      <td>0.044013</td>\n      <td>0.158347</td>\n      <td>0.024176</td>\n      <td>0.083802</td>\n      <td>0.061537</td>\n      <td>0.123271</td>\n      <td>0.062520</td>\n      <td>0.402619</td>\n    </tr>\n    <tr>\n      <th>min</th>\n      <td>0.000000</td>\n      <td>0.000000</td>\n      <td>0.000000</td>\n      <td>0.000000</td>\n      <td>25650.000000</td>\n      <td>4.500000e+04</td>\n      <td>0.000290</td>\n      <td>1.000000</td>\n      <td>0.000000</td>\n      <td>0.000000</td>\n      <td>...</td>\n      <td>0.000000</td>\n      <td>0.000000</td>\n      <td>0.000000</td>\n      <td>0.000000</td>\n      <td>0.000000</td>\n      <td>0.000000</td>\n      <td>0.000000</td>\n      <td>0.000000</td>\n      <td>0.000000</td>\n      <td>0.000000</td>\n    </tr>\n    <tr>\n      <th>25%</th>\n      <td>0.000000</td>\n      <td>0.000000</td>\n      <td>0.000000</td>\n      <td>0.000000</td>\n      <td>94500.000000</td>\n      <td>2.547000e+05</td>\n      <td>0.010006</td>\n      <td>2.000000</td>\n      <td>0.000000</td>\n      <td>0.000000</td>\n      <td>...</td>\n      <td>0.000000</td>\n      <td>0.000000</td>\n      <td>0.000000</td>\n      <td>0.000000</td>\n      <td>0.000000</td>\n      <td>0.000000</td>\n      <td>0.000000</td>\n      <td>0.000000</td>\n      <td>0.000000</td>\n      <td>0.000000</td>\n    </tr>\n    <tr>\n      <th>50%</th>\n      <td>0.000000</td>\n      <td>0.000000</td>\n      <td>0.000000</td>\n      <td>1.000000</td>\n      <td>135000.000000</td>\n      <td>4.500000e+05</td>\n      <td>0.018850</td>\n      <td>2.000000</td>\n      <td>0.000000</td>\n      <td>0.000000</td>\n      <td>...</td>\n      <td>0.000000</td>\n      <td>0.000000</td>\n      <td>0.000000</td>\n      <td>0.000000</td>\n      <td>0.000000</td>\n      <td>0.000000</td>\n      <td>0.000000</td>\n      <td>0.000000</td>\n      <td>0.000000</td>\n      <td>0.000000</td>\n    </tr>\n    <tr>\n      <th>75%</th>\n      <td>0.000000</td>\n      <td>0.000000</td>\n      <td>1.000000</td>\n      <td>1.000000</td>\n      <td>157500.000000</td>\n      <td>7.239960e+05</td>\n      <td>0.026392</td>\n      <td>3.000000</td>\n      <td>0.000000</td>\n      <td>0.000000</td>\n      <td>...</td>\n      <td>0.000000</td>\n      <td>0.000000</td>\n      <td>0.000000</td>\n      <td>0.000000</td>\n      <td>0.000000</td>\n      <td>0.000000</td>\n      <td>0.000000</td>\n      <td>0.000000</td>\n      <td>0.000000</td>\n      <td>0.000000</td>\n    </tr>\n    <tr>\n      <th>max</th>\n      <td>1.000000</td>\n      <td>1.000000</td>\n      <td>1.000000</td>\n      <td>1.000000</td>\n      <td>202500.000000</td>\n      <td>2.980521e+06</td>\n      <td>0.072508</td>\n      <td>20.000000</td>\n      <td>1.000000</td>\n      <td>1.000000</td>\n      <td>...</td>\n      <td>1.000000</td>\n      <td>1.000000</td>\n      <td>1.000000</td>\n      <td>1.000000</td>\n      <td>1.000000</td>\n      <td>1.000000</td>\n      <td>1.000000</td>\n      <td>1.000000</td>\n      <td>1.000000</td>\n      <td>1.000000</td>\n    </tr>\n  </tbody>\n</table>\n<p>11 rows × 124 columns</p>\n</div>"
     },
     "execution_count": 50,
     "metadata": {},
     "output_type": "execute_result"
    }
   ],
   "source": [
    "data.describe(include=\"all\")"
   ],
   "metadata": {
    "collapsed": false,
    "pycharm": {
     "name": "#%%\n"
    }
   }
  },
  {
   "cell_type": "code",
   "execution_count": 9,
   "outputs": [
    {
     "data": {
      "text/plain": "<AxesSubplot:xlabel='CODE_GENDER', ylabel='count'>"
     },
     "execution_count": 9,
     "metadata": {},
     "output_type": "execute_result"
    },
    {
     "data": {
      "text/plain": "<Figure size 432x288 with 1 Axes>",
      "image/png": "[encoded data removed]"
     },
     "metadata": {
      "needs_background": "light"
     },
     "output_type": "display_data"
    }
   ],
   "source": [
    "sns.countplot(x=\"CODE_GENDER\", data=data)"
   ],
   "metadata": {
    "collapsed": false,
    "pycharm": {
     "name": "#%%\n"
    }
   }
  },
  {
   "cell_type": "code",
   "execution_count": 18,
   "outputs": [
    {
     "data": {
      "text/plain": "(array([29611, 64072], dtype=int64),)"
     },
     "execution_count": 18,
     "metadata": {},
     "output_type": "execute_result"
    }
   ],
   "source": [
    "np.where(data[\"CODE_GENDER\"] == \"XNA\")"
   ],
   "metadata": {
    "collapsed": false,
    "pycharm": {
     "name": "#%%\n"
    }
   }
  },
  {
   "cell_type": "code",
   "execution_count": 52,
   "outputs": [
    {
     "data": {
      "text/plain": "<AxesSubplot:xlabel='TARGET', ylabel='count'>"
     },
     "execution_count": 52,
     "metadata": {},
     "output_type": "execute_result"
    },
    {
     "data": {
      "text/plain": "<Figure size 432x288 with 1 Axes>",
      "image/png": "[encoded data removed]"
     },
     "metadata": {
      "needs_background": "light"
     },
     "output_type": "display_data"
    }
   ],
   "source": [
    "sns.countplot(x=\"TARGET\", data=data)"
   ],
   "metadata": {
    "collapsed": false,
    "pycharm": {
     "name": "#%%\n"
    }
   }
  },
  {
   "cell_type": "code",
   "execution_count": 20,
   "outputs": [
    {
     "data": {
      "text/plain": "<AxesSubplot:xlabel='AMT_INCOME_TOTAL'>"
     },
     "execution_count": 20,
     "metadata": {},
     "output_type": "execute_result"
    },
    {
     "data": {
      "text/plain": "<Figure size 432x288 with 1 Axes>",
      "image/png": "[encoded data removed]"
     },
     "metadata": {
      "needs_background": "light"
     },
     "output_type": "display_data"
    }
   ],
   "source": [
    "feat_income_total = \"AMT_INCOME_TOTAL\"\n",
    "sns.boxplot(x=feat_income_total, data=data)"
   ],
   "metadata": {
    "collapsed": false,
    "pycharm": {
     "name": "#%%\n"
    }
   }
  },
  {
   "cell_type": "code",
   "execution_count": 42,
   "outputs": [
    {
     "data": {
      "text/plain": "<AxesSubplot:xlabel='AMT_INCOME_TOTAL', ylabel='Count'>"
     },
     "execution_count": 42,
     "metadata": {},
     "output_type": "execute_result"
    },
    {
     "data": {
      "text/plain": "<Figure size 432x288 with 1 Axes>",
      "image/png": "[encoded data removed]"
     },
     "metadata": {
      "needs_background": "light"
     },
     "output_type": "display_data"
    }
   ],
   "source": [
    "# maybe create clusterizer for total income\n",
    "sns.histplot(x=feat_income_total, data=data)"
   ],
   "metadata": {
    "collapsed": false,
    "pycharm": {
     "name": "#%%\n"
    }
   }
  },
  {
   "cell_type": "code",
   "execution_count": 60,
   "outputs": [
    {
     "name": "stdout",
     "output_type": "stream",
     "text": [
      "[(35752, 134943.3), (31023, 112483.34999999999), (26558, 157403.25), (24719, 179863.19999999998), (22489, 89846.54999999999), (16341, 202323.15), (11147, 67386.6), (6001, 80827.2), (4669, 125923.95), (3851, 121325.84999999999)]\n"
     ]
    }
   ],
   "source": [
    "counts, bins = np.histogram(data[feat_income_total], 1000)\n",
    "print(sorted(list(zip(counts, bins)), key=lambda x: x[0], reverse=True)[:10])"
   ],
   "metadata": {
    "collapsed": false,
    "pycharm": {
     "name": "#%%\n"
    }
   }
  },
  {
   "cell_type": "code",
   "execution_count": null,
   "outputs": [],
   "source": [
    "sns.violinplot(x=feat_income_total, data=data)"
   ],
   "metadata": {
    "collapsed": false,
    "pycharm": {
     "name": "#%%\n"
    }
   }
  },
  {
   "cell_type": "code",
   "execution_count": 37,
   "outputs": [
    {
     "data": {
      "text/plain": "count    235973.000000\nmean     129582.587567\nstd       41057.017525\nmin       25650.000000\n25%       94500.000000\n50%      135000.000000\n75%      157500.000000\nmax      202500.000000\nName: AMT_INCOME_TOTAL, dtype: float64"
     },
     "execution_count": 37,
     "metadata": {},
     "output_type": "execute_result"
    }
   ],
   "source": [
    "data[feat_income_total].describe()"
   ],
   "metadata": {
    "collapsed": false,
    "pycharm": {
     "name": "#%%\n"
    }
   }
  },
  {
   "cell_type": "code",
   "execution_count": null,
   "outputs": [],
   "source": [
    "data = None"
   ],
   "metadata": {
    "collapsed": false,
    "pycharm": {
     "name": "#%%\n"
    }
   }
  },
  {
   "cell_type": "code",
   "execution_count": 10,
   "outputs": [],
   "source": [
    "data_train = data_train_pipeline.transform(data_original.copy(deep=True))"
   ],
   "metadata": {
    "collapsed": false,
    "pycharm": {
     "name": "#%%\n"
    }
   }
  },
  {
   "cell_type": "code",
   "execution_count": 51,
   "outputs": [],
   "source": [
    "y_columns = [\"TARGET\"]\n",
    "x_data, y_data = data_train[data_train.columns.difference(y_columns)], data_train[y_columns]\n",
    "x_data = x_data.astype(\"float32\")\n",
    "y_data = y_data.astype(\"float32\")"
   ],
   "metadata": {
    "collapsed": false,
    "pycharm": {
     "name": "#%%\n"
    }
   }
  },
  {
   "cell_type": "code",
   "execution_count": 33,
   "outputs": [
    {
     "data": {
      "text/plain": "<AxesSubplot:ylabel='Count'>"
     },
     "execution_count": 33,
     "metadata": {},
     "output_type": "execute_result"
    },
    {
     "data": {
      "text/plain": "<Figure size 432x288 with 1 Axes>",
      "image/png": "[encoded data removed]"
     },
     "metadata": {
      "needs_background": "light"
     },
     "output_type": "display_data"
    }
   ],
   "source": [
    "sns.histplot(data=y_data)"
   ],
   "metadata": {
    "collapsed": false,
    "pycharm": {
     "name": "#%%\n"
    }
   }
  },
  {
   "cell_type": "code",
   "execution_count": 72,
   "outputs": [],
   "source": [
    "from tensorflow import keras\n",
    "from tensorflow.keras import layers\n",
    "\n",
    "inputs = keras.Input(shape=(len(x_data.columns),), name=\"input\")\n",
    "layer1 = layers.Dense(50, activation=\"linear\", name=\"dense_1\")(inputs)\n",
    "output = layers.Dense(1, activation=\"sigmoid\", name=\"output\")(layer1)\n",
    "\n",
    "model = keras.Model(inputs=inputs, outputs=output)\n",
    "model.compile(loss=\"binary_crossentropy\", optimizer='adam', metrics=['accuracy'])"
   ],
   "metadata": {
    "collapsed": false,
    "pycharm": {
     "name": "#%%\n"
    }
   }
  },
  {
   "cell_type": "code",
   "execution_count": 74,
   "outputs": [
    {
     "name": "stdout",
     "output_type": "stream",
     "text": [
      "Model: \"model_10\"\n",
      "_________________________________________________________________\n",
      "Layer (type)                 Output Shape              Param #   \n",
      "=================================================================\n",
      "input (InputLayer)           [(None, 123)]             0         \n",
      "_________________________________________________________________\n",
      "dense_1 (Dense)              (None, 50)                6200      \n",
      "_________________________________________________________________\n",
      "output (Dense)               (None, 1)                 51        \n",
      "=================================================================\n",
      "Total params: 6,251\n",
      "Trainable params: 6,251\n",
      "Non-trainable params: 0\n",
      "_________________________________________________________________\n"
     ]
    }
   ],
   "source": [
    "model.summary()"
   ],
   "metadata": {
    "collapsed": false,
    "pycharm": {
     "name": "#%%\n"
    }
   }
  },
  {
   "cell_type": "code",
   "execution_count": 55,
   "outputs": [],
   "source": [
    "from sklearn.model_selection import train_test_split\n",
    "\n",
    "x_train, x_test, y_train, y_test = train_test_split(x_data, y_data, test_size=0.20)"
   ],
   "metadata": {
    "collapsed": false,
    "pycharm": {
     "name": "#%%\n"
    }
   }
  },
  {
   "cell_type": "code",
   "execution_count": 71,
   "outputs": [
    {
     "name": "stdout",
     "output_type": "stream",
     "text": [
      "340/340 [==============================] - 2s 3ms/step - loss: nan - accuracy: 0.9168 - val_loss: nan - val_accuracy: 0.9162\b\b\b\b\b\b\b\b\b\b\b\b\b\b\b\b\b\b\b\b\b\b\b\b\b\b\b\b\b\b\b\b\b\b\b\b\b\b\b\b\b\b\b\b\b\b\b\b\b\b\b\b\b\b\b\b\b\b\b\b\b\b\b\b\b\b\b\b\b\b\b\b\b\b\b\b\b\b\b\b\b\b\b\b\b\b\b\b\b\b\b\b\b\b\b\b\b\b\b\b\b\b\b\b\b\b\b\b\b\b\b\b\b\b\b\b\b\b\b\b\b\b\b\b\b\b\b\b\b\b\b\b\b\b\b\b\b\b\b\b\b\b\b\b\b\b\b\b\b\b\b\b\b\b\b\b\b\b\b\b\b\b\b\b\b\b\b\b\b\b\b\b\b\b\b\b\b\b\b\b\b\b\b\b\b\b\b\b\b\b\b\b\b\b\b\b\b\b\b\b\b\b\b\b\b\b\b\b\b\b\b\b\b\b\b\b\b\b\b\b\b\b\b\b\b\b\b\b\b\b\b\b\b\b\b\b\b\b\b\b\b\b\b\b\b\b\b\b\b\b\b\b\b\b\b\b\b\b\b\b\b\b\b\b\b\b\b\b\b\b\b\b\b\b\b\b\b\b\b\b\b\b\b\b\b\b\b\b\b\b\b\b\b\b\b\b\b\b\b\b\b\b\b\b\b\b\b\b\b\b\b\b\b\b\b\b\b\b\b\b\b\b\b\b\b\b\b\b\b\b\b\b\b\b\b\b\b\b\b\b\b\b\b\b\b\b\b\b\b\b\b\b\b\b\b\b\b\b\b\b\b\b\b\b\b\b\b\b\b\b\b\b\b\b\b\b\b\b\b\b\b\b\b\b\b\b\b\b\b\b\b\b\b\b\b\b\b\b\b\b\b\b\b\b\b\b\b\b\b\b\b\b\b\b\b\b\b\b\b\b\b\b\b\b\b\b\b\b\b\b\b\b\b\b\b\b\b\b\b\b\b\b\b\b\b\b\b\b\b\b\b\b\b\b\b\b\b\b\b\b\b\b\b\b\b\b\b\b\b\b\b\b\b\b\b\b\b\b\b\b\b\b\b\b\b\b\b\b\b\b\b\b\b\b\b\b\b\b\b\b\b\b\b\b\b\b\b\b\b\b\b\b\b\b\b\b\b\b\b\b\b\b\b\b\b\b\b\b\b\b\b\b\b\b\b\b\b\b\b\b\b\b\b\b\b\b\b\b\b\b\b\b\b\b\b\b\b\b\b\b\b\b\b\b\b\b\b\b\b\b\b\b\b\b\b\b\b\b\b\b\b\b\b\b\b\b\b\b\b\b\b\b\b\b\b\b\b\b\b\b\b\b\b\b\b\b\b\b\b\b\b\b\b\b\b\b\b\b\b\b\b\b\b\b\b\b\b\b\b\b\b\b\b\b\b\b\b\b\b\b\b\b\b\b\b\b\b\b\b\b\b\b\b\b\b\b\b\b\b\b\b\b\b\b\b\b\b\b\b\b\b\b\b\b\b\b\b\b\b\b\b\b\b\b\b\b\b\b\b\b\b\b\b\b\b\b\b\b\b\b\b\b\b\b\b\b\b\b\b\b\b\b\b\b\b\b\b\b\b\b\b\b\b\b\b\b\b\b\b\b\b\b\b\b\b\b\b\b\b\b\b\b\b\b\b\b\b\b\b\b\b\b\b\b\b\b\b\b\b\b\b\b\b\b\b\b\b\b\b\b\b\b\b\b\b\b\b\b\b\b\b\b\b\b\b\b\b\b\b\b\b\b\b\b\b\b\b\b\b\b\b\b\b\b\b\b\b\b\b\b\b\b\b\b\b\b\b\b\b\b\b\b\b\b\b\b\b\b\b\b\b\b\b\b\b\b\b\b\b\b\b\b\b\b\b\b\b\b\b\b\b\b\b\b\b\b\b\b\b\b\b\b\b\b\b\b\b\b\b\b\b\b\b\b\b\b\b\b\b\b\b\b\b\b\b\b\b\b\b\b\b\b\b\b\b\b\b\b\b\b\b\b\b\b\b\b\b\b\b\b\b\b\b\b\b\b\b\b\b\b\b\b\b\b\b\b\b\b\b\b\b\b\b\b\b\b\b\b\b\b\b\b\b\b\b\b\b\b\b\b\b\b\b\b\b\b\b\b\b\b\b\b\b\b\b\b\b\b\b\b\b\b\b\b\b\b\b\b\b\b\b\b\b\b\b\b\b\b\b\b\b\b\b\b\b\b\b\b\b\b\b\b\b\b\b\b\b\b\b\b\b\b\b\b\b\b\b\b\b\b\b\b\b\b\b\b\b\b\b\b\b\b\b\b\b\b\b\b\b\b\b\b\b\b\b\b\b\b\b\b\b\b\b\b\b\b\b\b\b\b\b\b\b\b\b\b\b\b\b\b\b\b\b\b\b\b\b\b\b\b\b\b\b\b\b\b\b\b\b\b\b\b\b\b\b\b\b\b\b\b\b\b\b\b\b\b\b\b\b\b\b\b\b\b\b\b\b\b\b\b\b\b\b\b\b\b\b\b\b\b\b\b\b\b\b\b\b\b\b\b\b\b\b\b\b\b\b\b\b\b\b\b\b\b\b\b\b\b\b\b\b\b\b\b\b\b\b\b\b\b\b\b\b\b\b\b\b\b\b\b\b\b\b\b\b\b\b\b\b\b\b\b\b\b\b\b\b\b\b\b\b\b\b\b\b\b\b\b\b\b\b\b\b\b\b\b\b\b\b\b\b\b\b\b\b\b\b\b\b\b\b\b\b\b\b\b\b\b\b\b\b\b\b\b\b\b\b\b\b\b\b\b\b\b\b\b\b\n"
     ]
    }
   ],
   "source": [
    "history = model.fit(x_train, y_train, 500, 1, validation_split=0.1)"
   ],
   "metadata": {
    "collapsed": false,
    "pycharm": {
     "name": "#%%\n"
    }
   }
  },
  {
   "cell_type": "code",
   "execution_count": 39,
   "outputs": [
    {
     "data": {
      "text/plain": "<Figure size 432x288 with 1 Axes>",
      "image/png": "[encoded data removed]"
     },
     "metadata": {
      "needs_background": "light"
     },
     "output_type": "display_data"
    }
   ],
   "source": [
    "plt.plot(history.history['loss'])\n",
    "plt.plot(history.history['val_loss'])\n",
    "plt.show()"
   ],
   "metadata": {
    "collapsed": false,
    "pycharm": {
     "name": "#%%\n"
    }
   }
  },
  {
   "cell_type": "code",
   "execution_count": 40,
   "outputs": [
    {
     "data": {
      "text/plain": "{'loss': [nan, nan, nan, nan, nan, nan, nan, nan, nan, nan],\n 'binary_accuracy': [0.907962441444397,\n  0.9151431918144226,\n  0.9151431918144226,\n  0.9151431918144226,\n  0.9151431918144226,\n  0.9151431918144226,\n  0.9151431918144226,\n  0.9151431918144226,\n  0.9151431918144226,\n  0.9151431918144226],\n 'val_loss': [nan, nan, nan, nan, nan, nan, nan, nan, nan, nan],\n 'val_binary_accuracy': [0.9179468154907227,\n  0.9179468154907227,\n  0.9179468154907227,\n  0.9179468154907227,\n  0.9179468154907227,\n  0.9179468154907227,\n  0.9179468154907227,\n  0.9179468154907227,\n  0.9179468154907227,\n  0.9179468154907227]}"
     },
     "execution_count": 40,
     "metadata": {},
     "output_type": "execute_result"
    }
   ],
   "source": [
    "history.history"
   ],
   "metadata": {
    "collapsed": false,
    "pycharm": {
     "name": "#%%\n"
    }
   }
  }
 ],
 "metadata": {
  "kernelspec": {
   "display_name": "Python ML",
   "language": "python",
   "name": "envml"
  },
  "language_info": {
   "codemirror_mode": {
    "name": "ipython",
    "version": 3
   },
   "file_extension": ".py",
   "mimetype": "text/x-python",
   "name": "python",
   "nbconvert_exporter": "python",
   "pygments_lexer": "ipython3",
   "version": "3.8.6"
  }
 },
 "nbformat": 4,
 "nbformat_minor": 4
}