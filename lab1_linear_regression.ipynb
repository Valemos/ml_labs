{
 "cells": [
  {
   "cell_type": "code",
   "execution_count": 1,
   "metadata": {},
   "outputs": [],
   "source": [
    "import numpy as np\n",
    "import pandas as pd\n",
    "from pathlib import Path\n",
    "import matplotlib.pyplot as plt"
   ]
  },
  {
   "cell_type": "code",
   "execution_count": 2,
   "metadata": {},
   "outputs": [],
   "source": [
    "path_test = Path(r\"D:\\KPI\\kurs3_CAD\\semester2\\Machine_Learning\\lab1\\lab_1_test.csv\")\n",
    "path_train = Path(r\"D:\\KPI\\kurs3_CAD\\semester2\\Machine_Learning\\lab1\\lab_1_train.csv\")"
   ]
  },
  {
   "cell_type": "code",
   "execution_count": 3,
   "metadata": {},
   "outputs": [],
   "source": [
    "data_train, data_test = pd.read_csv(path_train, index_col=0), pd.read_csv(path_test, index_col=0)\n",
    "x_train, y_train = data_train[\"x\"], data_train[\"y\"]\n",
    "x_test, y_test = data_test[\"x\"], data_test[\"y\"]"
   ]
  },
  {
   "cell_type": "code",
   "execution_count": 4,
   "metadata": {},
   "outputs": [
    {
     "data": {
      "text/html": [
       "<div>\n",
       "<style scoped>\n",
       "    .dataframe tbody tr th:only-of-type {\n",
       "        vertical-align: middle;\n",
       "    }\n",
       "\n",
       "    .dataframe tbody tr th {\n",
       "        vertical-align: top;\n",
       "    }\n",
       "\n",
       "    .dataframe thead th {\n",
       "        text-align: right;\n",
       "    }\n",
       "</style>\n",
       "<table border=\"1\" class=\"dataframe\">\n",
       "  <thead>\n",
       "    <tr style=\"text-align: right;\">\n",
       "      <th></th>\n",
       "      <th>x</th>\n",
       "      <th>y</th>\n",
       "    </tr>\n",
       "  </thead>\n",
       "  <tbody>\n",
       "    <tr>\n",
       "      <th>count</th>\n",
       "      <td>60.000000</td>\n",
       "      <td>60.000000</td>\n",
       "    </tr>\n",
       "    <tr>\n",
       "      <th>mean</th>\n",
       "      <td>0.297980</td>\n",
       "      <td>20.549563</td>\n",
       "    </tr>\n",
       "    <tr>\n",
       "      <th>std</th>\n",
       "      <td>0.176407</td>\n",
       "      <td>0.442858</td>\n",
       "    </tr>\n",
       "    <tr>\n",
       "      <th>min</th>\n",
       "      <td>0.000000</td>\n",
       "      <td>19.688642</td>\n",
       "    </tr>\n",
       "    <tr>\n",
       "      <th>25%</th>\n",
       "      <td>0.148990</td>\n",
       "      <td>20.174859</td>\n",
       "    </tr>\n",
       "    <tr>\n",
       "      <th>50%</th>\n",
       "      <td>0.297980</td>\n",
       "      <td>20.462845</td>\n",
       "    </tr>\n",
       "    <tr>\n",
       "      <th>75%</th>\n",
       "      <td>0.446970</td>\n",
       "      <td>20.855458</td>\n",
       "    </tr>\n",
       "    <tr>\n",
       "      <th>max</th>\n",
       "      <td>0.595960</td>\n",
       "      <td>21.484583</td>\n",
       "    </tr>\n",
       "  </tbody>\n",
       "</table>\n",
       "</div>"
      ],
      "text/plain": [
       "               x          y\n",
       "count  60.000000  60.000000\n",
       "mean    0.297980  20.549563\n",
       "std     0.176407   0.442858\n",
       "min     0.000000  19.688642\n",
       "25%     0.148990  20.174859\n",
       "50%     0.297980  20.462845\n",
       "75%     0.446970  20.855458\n",
       "max     0.595960  21.484583"
      ]
     },
     "execution_count": 4,
     "metadata": {},
     "output_type": "execute_result"
    }
   ],
   "source": [
    "data_train.describe()"
   ]
  },
  {
   "cell_type": "code",
   "execution_count": 5,
   "metadata": {},
   "outputs": [
    {
     "data": {
      "text/plain": [
       "<matplotlib.collections.PathCollection at 0x24f82c5bd00>"
      ]
     },
     "execution_count": 5,
     "metadata": {},
     "output_type": "execute_result"
    },
    {
     "data": {
      "image/png": "[encoded data removed]",
      "text/plain": [
       "<Figure size 432x288 with 1 Axes>"
      ]
     },
     "metadata": {
      "needs_background": "light"
     },
     "output_type": "display_data"
    }
   ],
   "source": [
    "plt.scatter(x_train, y_train)"
   ]
  },
  {
   "cell_type": "code",
   "execution_count": 6,
   "metadata": {},
   "outputs": [],
   "source": [
    "def model(x, w):\n",
    "    return w[1] * x + w[0]"
   ]
  },
  {
   "cell_type": "code",
   "execution_count": 7,
   "metadata": {},
   "outputs": [
    {
     "data": {
      "text/plain": [
       "[<matplotlib.lines.Line2D at 0x24f84d5d880>]"
      ]
     },
     "execution_count": 7,
     "metadata": {},
     "output_type": "execute_result"
    },
    {
     "data": {
      "image/png": "[encoded data removed]",
      "text/plain": [
       "<Figure size 432x288 with 1 Axes>"
      ]
     },
     "metadata": {
      "needs_background": "light"
     },
     "output_type": "display_data"
    }
   ],
   "source": [
    "xx = np.linspace(0, 10, 20)\n",
    "plt.plot(xx, model(xx, np.array([1, 1])))"
   ]
  },
  {
   "cell_type": "code",
   "execution_count": 8,
   "metadata": {},
   "outputs": [],
   "source": [
    "def cost(x, y, w):\n",
    "    return 1/2/len(x) * np.sum((model(x, w) - y)**2)"
   ]
  },
  {
   "cell_type": "code",
   "execution_count": 9,
   "metadata": {},
   "outputs": [
    {
     "data": {
      "text/plain": [
       "203.90231727801404"
      ]
     },
     "execution_count": 9,
     "metadata": {},
     "output_type": "execute_result"
    }
   ],
   "source": [
    "cost(x_train, y_train, np.array([0.3, 0.2]))"
   ]
  },
  {
   "cell_type": "code",
   "execution_count": 12,
   "metadata": {},
   "outputs": [],
   "source": [
    "def grad_w0(x, y, w):\n",
    "    return 1/len(x) * np.sum(model(x, w) - y)\n",
    "\n",
    "def grad_w1(x, y, w):\n",
    "    return 1/len(x) * np.sum((model(x, w) - y) * x)"
   ]
  },
  {
   "cell_type": "code",
   "execution_count": 15,
   "metadata": {},
   "outputs": [],
   "source": [
    "def linear_regression(x, y, learning_rate, accuracy):\n",
    "    w = np.random.uniform(0, 1, 2)\n",
    "    \n",
    "    while regression_step(x, y, w, learning_rate) > accuracy:\n",
    "        print(f\"weights: {w}\\tloss: {cost(x, y, w)}\")\n",
    "    \n",
    "    return w\n",
    "\n",
    "def regression_step(x, y, w, rate):\n",
    "    \n",
    "    delta0 = -rate * grad_w0(x, y, w)\n",
    "    w[0] += delta0\n",
    "\n",
    "    delta1 = -rate * grad_w1(x, y, w)\n",
    "    w[1] += delta1\n",
    "    \n",
    "    return abs(delta0) + abs(delta1)\n",
    "    "
   ]
  },
  {
   "cell_type": "code",
   "execution_count": 19,
   "metadata": {
    "scrolled": true
   },
   "outputs": [
    {
     "name": "stdout",
     "output_type": "stream",
     "text": [
      "weights: [8.41865638 2.20009586]\tloss: 65.87878238230151\n",
      "weights: [13.00878545  3.0180464 ]\tloss: 22.107544158461433\n",
      "weights: [15.66536981  3.48029067]\tloss: 7.471244216579425\n",
      "weights: [17.20422464  3.73704046]\tloss: 2.5742299111898816\n",
      "weights: [18.09693503  3.87512477]\tloss: 0.933836252107727\n",
      "weights: [18.61610274  3.944734  ]\tloss: 0.3829416869907717\n",
      "weights: [18.9193065   3.97487945]\tloss: 0.19685901788046914\n",
      "weights: [19.09763567  3.98232985]\tloss: 0.1331209783490595\n",
      "weights: [19.20374514  3.97677705]\tloss: 0.11052729537431945\n",
      "weights: [19.26807267  3.96382212]\tloss: 0.10184167578798538\n",
      "weights: [19.30821331  3.94670143]\tloss: 0.09790383676764845\n",
      "weights: [19.33433835  3.92728449]\tloss: 0.09561876419207527\n",
      "weights: [19.35232771  3.90665065]\tloss: 0.09393255781092702\n",
      "weights: [19.36558071  3.88542257]\tloss: 0.09248159645560076\n",
      "weights: [19.37606273  3.86395892]\tloss: 0.09113763084144022\n",
      "weights: [19.38491024  3.84246575]\tloss: 0.08985376039949422\n",
      "weights: [19.39278055  3.82106095]\tloss: 0.08861181407149805\n",
      "weights: [19.40005402  3.79981144]\tloss: 0.08740410894647536\n",
      "weights: [19.40695087  3.7787547 ]\tloss: 0.0862269784369223\n",
      "weights: [19.41359877  3.75791119]\tloss: 0.08507839450817506\n",
      "weights: [19.42007189  3.73729156]\tloss: 0.08395705008559022\n",
      "weights: [19.42641346  3.7169008 ]\tloss: 0.08286198203569216\n",
      "weights: [19.43264881  3.69674064]\tloss: 0.08179240486808115\n",
      "weights: [19.43879295  3.67681093]\tloss: 0.08074763204284632\n",
      "weights: [19.4448549   3.65711047]\tloss: 0.07972703637679072\n",
      "weights: [19.4508402   3.63763745]\tloss: 0.07873002913029621\n",
      "weights: [19.45675241  3.61838972]\tloss: 0.07775604854684018\n",
      "weights: [19.4625939   3.59936494]\tloss: 0.07680455338734633\n",
      "weights: [19.4683664   3.58056069]\tloss: 0.07587501918455061\n",
      "weights: [19.47407122  3.56197451]\tloss: 0.07496693600856068\n",
      "weights: [19.47970943  3.54360392]\tloss: 0.07407980708328595\n",
      "weights: [19.48528198  3.52544646]\tloss: 0.07321314788655417\n",
      "weights: [19.49078974  3.50749966]\tloss: 0.07236648552746211\n",
      "weights: [19.4962335   3.48976109]\tloss: 0.0715393582840765\n",
      "weights: [19.50161406  3.47222835]\tloss: 0.07073131523502402\n",
      "weights: [19.50693215  3.45489904]\tloss: 0.06994191594707111\n",
      "weights: [19.51218852  3.43777081]\tloss: 0.06917073019702263\n",
      "weights: [19.51738389  3.42084133]\tloss: 0.06841733771552108\n",
      "weights: [19.52251896  3.4041083 ]\tloss: 0.06768132794560093\n",
      "weights: [19.52759445  3.38756942]\tloss: 0.06696229981186569\n",
      "weights: [19.53261105  3.37122246]\tloss: 0.06625986149787673\n",
      "weights: [19.53756943  3.35506518]\tloss: 0.06557363023032863\n",
      "weights: [19.54247028  3.33909538]\tloss: 0.06490323206914476\n",
      "weights: [19.54731426  3.32331089]\tloss: 0.06424830170295473\n",
      "weights: [19.55210203  3.30770955]\tloss: 0.06360848224959853\n",
      "weights: [19.55683424  3.29228925]\tloss: 0.0629834250614086\n",
      "weights: [19.56151155  3.27704788]\tloss: 0.062372789535085855\n",
      "weights: [19.56613458  3.26198336]\tloss: 0.06177624292601835\n",
      "weights: [19.57070397  3.24709364]\tloss: 0.061193460166918796\n",
      "weights: [19.57522033  3.2323767 ]\tloss: 0.060624123690662994\n",
      "weights: [19.57968429  3.21783053]\tloss: 0.060067923257228505\n",
      "weights: [19.58409646  3.20345315]\tloss: 0.059524555784631415\n",
      "weights: [19.58845742  3.18924259]\tloss: 0.05899372518376719\n",
      "weights: [19.59276778  3.17519693]\tloss: 0.05847514219706498\n",
      "weights: [19.59702813  3.16131425]\tloss: 0.057968524240864676\n",
      "weights: [19.60123904  3.14759266]\tloss: 0.05747359525143249\n",
      "weights: [19.60540109  3.13403029]\tloss: 0.056990085534528494\n",
      "weights: [19.60951485  3.12062529]\tloss: 0.056517731618446546\n",
      "weights: [19.61358087  3.10737584]\tloss: 0.05605627611044415\n",
      "weights: [19.61759971  3.09428012]\tloss: 0.05560546755648497\n",
      "weights: [19.62157191  3.08133637]\tloss: 0.055165060304217854\n",
      "weights: [19.62549803  3.06854281]\tloss: 0.05473481436911753\n",
      "weights: [19.62937859  3.0558977 ]\tloss: 0.05431449530371255\n",
      "weights: [19.63321412  3.04339932]\tloss: 0.053903874069832367\n",
      "weights: [19.63700514  3.03104597]\tloss: 0.05350272691380012\n",
      "weights: [19.64075218  3.01883595]\tloss: 0.053110835244506556\n",
      "weights: [19.64445573  3.00676762]\tloss: 0.052727985514295785\n",
      "weights: [19.64811631  2.99483933]\tloss: 0.05235396910260047\n",
      "weights: [19.65173442  2.98304944]\tloss: 0.05198858220226126\n",
      "weights: [19.65531054  2.97139637]\tloss: 0.0516316257084691\n",
      "weights: [19.65884516  2.9598785 ]\tloss: 0.051282905110270054\n",
      "weights: [19.66233878  2.94849429]\tloss: 0.05094223038457318\n",
      "weights: [19.66579185  2.93724218]\tloss: 0.05060941589260462\n",
      "weights: [19.66920485  2.92612063]\tloss: 0.050284280278749746\n",
      "weights: [19.67257825  2.91512813]\tloss: 0.049966646371729866\n",
      "weights: [19.67591251  2.90426318]\tloss: 0.04965634108805908\n",
      "weights: [19.67920808  2.89352431]\tloss: 0.04935319533772855\n",
      "weights: [19.68246541  2.88291004]\tloss: 0.04905704393206631\n",
      "weights: [19.68568494  2.87241894]\tloss: 0.048767725493724184\n",
      "weights: [19.68886712  2.86204957]\tloss: 0.04848508236874044\n",
      "weights: [19.69201236  2.85180053]\tloss: 0.048208960540631514\n",
      "weights: [19.69512112  2.84167041]\tloss: 0.04793920954646684\n",
      "weights: [19.6981938   2.83165783]\tloss: 0.04767568239487877\n",
      "weights: [19.70123082  2.82176144]\tloss: 0.04741823548596507\n",
      "weights: [19.70423261  2.81197988]\tloss: 0.047166728533038674\n",
      "weights: [19.70719956  2.80231183]\tloss: 0.04692102448618427\n",
      "weights: [19.71013209  2.79275595]\tloss: 0.04668098945757692\n",
      "weights: [19.71303059  2.78331096]\tloss: 0.04644649264852476\n",
      "weights: [19.71589545  2.77397557]\tloss: 0.04621740627819501\n",
      "weights: [19.71872708  2.7647485 ]\tloss: 0.04599360551398433\n",
      "weights: [19.72152584  2.7556285 ]\tloss: 0.04577496840349552\n",
      "weights: [19.72429213  2.74661432]\tloss: 0.04556137580808365\n",
      "weights: [19.72702632  2.73770474]\tloss: 0.04535271133793596\n",
      "weights: [19.72972879  2.72889854]\tloss: 0.04514886128864908\n",
      "weights: [19.7323999   2.72019452]\tloss: 0.044949714579269884\n",
      "weights: [19.73504001  2.71159151]\tloss: 0.044755162691765785\n",
      "weights: [19.73764949  2.70308832]\tloss: 0.044565099611891666\n",
      "weights: [19.74022868  2.69468379]\tloss: 0.0443794217714212\n",
      "weights: [19.74277795  2.68637679]\tloss: 0.04419802799171066\n",
      "weights: [19.74529764  2.67816618]\tloss: 0.044020819428565436\n",
      "weights: [19.74778809  2.67005085]\tloss: 0.04384769951837833\n",
      "weights: [19.75024965  2.66202968]\tloss: 0.04367857392551046\n",
      "weights: [19.75268264  2.65410158]\tloss: 0.04351335049088654\n",
      "weights: [19.7550874   2.64626548]\tloss: 0.04335193918177584\n",
      "weights: [19.75746425  2.63852031]\tloss: 0.04319425204273204\n",
      "weights: [19.75981353  2.63086501]\tloss: 0.043040203147665136\n",
      "weights: [19.76213555  2.62329853]\tloss: 0.04288970855301874\n",
      "weights: [19.76443062  2.61581986]\tloss: 0.0427426862520282\n",
      "weights: [19.76669906  2.60842796]\tloss: 0.04259905613003382\n",
      "weights: [19.76894118  2.60112184]\tloss: 0.04245873992082546\n",
      "weights: [19.77115728  2.59390049]\tloss: 0.04232166116399323\n",
      "weights: [19.77334767  2.58676294]\tloss: 0.0421877451632642\n",
      "weights: [19.77551264  2.57970821]\tloss: 0.04205691894579845\n",
      "weights: [19.77765249  2.57273534]\tloss: 0.04192911122242547\n",
      "weights: [19.7797675   2.56584338]\tloss: 0.04180425234879741\n",
      "weights: [19.78185798  2.55903139]\tloss: 0.04168227428743913\n",
      "weights: [19.7839242   2.55229845]\tloss: 0.041563110570673086\n",
      "weights: [19.78596645  2.54564363]\tloss: 0.04144669626440056\n",
      "weights: [19.787985    2.53906603]\tloss: 0.041332967932718026\n",
      "weights: [19.78998012  2.53256476]\tloss: 0.041221863603349285\n",
      "weights: [19.79195209  2.52613892]\tloss: 0.04111332273387713\n",
      "weights: [19.79390119  2.51978765]\tloss: 0.04100728617875161\n",
      "weights: [19.79582766  2.51351007]\tloss: 0.04090369615706152\n",
      "weights: [19.79773179  2.50730533]\tloss: 0.040802496221048506\n",
      "weights: [19.79961381  2.5011726 ]\tloss: 0.04070363122534746\n",
      "weights: [19.801474    2.49511102]\tloss: 0.040607047296937857\n",
      "weights: [19.80331261  2.48911978]\tloss: 0.04051269180578641\n",
      "weights: [19.80512988  2.48319807]\tloss: 0.040420513336169285\n",
      "weights: [19.80692606  2.47734506]\tloss: 0.04033046165865389\n",
      "weights: [19.8087014   2.47155997]\tloss: 0.04024248770272896\n",
      "weights: [19.81045614  2.46584201]\tloss: 0.04015654353006473\n",
      "weights: [19.81219052  2.4601904 ]\tloss: 0.040072582308390926\n",
      "weights: [19.81390477  2.45460436]\tloss: 0.039990558285976974\n",
      "weights: [19.81559914  2.44908315]\tloss: 0.03991042676670129\n",
      "weights: [19.81727384  2.443626  ]\tloss: 0.03983214408569556\n",
      "weights: [19.81892911  2.43823217]\tloss: 0.03975566758555151\n",
      "weights: [19.82056517  2.43290093]\tloss: 0.03968095559307565\n",
      "weights: [19.82218225  2.42763155]\tloss: 0.03960796739658135\n",
      "weights: [19.82378056  2.42242332]\tloss: 0.03953666322370419\n",
      "weights: [19.82536033  2.41727552]\tloss: 0.03946700421972964\n",
      "weights: [19.82692177  2.41218745]\tloss: 0.03939895242642029\n",
      "weights: [19.82846508  2.40715842]\tloss: 0.03933247076133218\n",
      "weights: [19.82999049  2.40218775]\tloss: 0.03926752299760737\n",
      "weights: [19.83149821  2.39727476]\tloss: 0.039204073744234236\n",
      "weights: [19.83298842  2.39241877]\tloss: 0.039142088426761895\n",
      "weights: [19.83446134  2.38761913]\tloss: 0.039081533268459756\n",
      "weights: [19.83591718  2.38287518]\tloss: 0.039022375271912844\n",
      "weights: [19.83735612  2.37818628]\tloss: 0.038964582201040474\n",
      "weights: [19.83877836  2.37355179]\tloss: 0.03890812256353029\n",
      "weights: [19.8401841   2.36897108]\tloss: 0.03885296559367816\n",
      "weights: [19.84157353  2.36444352]\tloss: 0.038799081235622736\n",
      "weights: [19.84294683  2.35996849]\tloss: 0.0387464401269682\n",
      "weights: [19.8443042   2.35554539]\tloss: 0.038695013582783856\n",
      "weights: [19.84564582  2.35117361]\tloss: 0.038644773579973604\n",
      "weights: [19.84697187  2.34685257]\tloss: 0.038595692742005375\n",
      "weights: [19.84828254  2.34258166]\tloss: 0.03854774432399354\n",
      "weights: [19.849578    2.33836031]\tloss: 0.03850090219812497\n",
      "weights: [19.85085842  2.33418794]\tloss: 0.03845514083942202\n",
      "weights: [19.85212399  2.33006399]\tloss: 0.038410435311832844\n",
      "weights: [19.85337487  2.32598789]\tloss: 0.03836676125464453\n",
      "weights: [19.85461124  2.32195909]\tloss: 0.03832409486920708\n",
      "weights: [19.85583326  2.31797703]\tloss: 0.03828241290596644\n",
      "weights: [19.8570411   2.31404119]\tloss: 0.038241692651795056\n",
      "weights: [19.85823493  2.31015101]\tloss: 0.038201911917614614\n",
      "weights: [19.8594149   2.30630597]\tloss: 0.03816304902630598\n",
      "weights: [19.86058118  2.30250555]\tloss: 0.03812508280089601\n",
      "weights: [19.86173393  2.29874923]\tloss: 0.03808799255301813\n",
      "weights: [19.8628733   2.29503649]\tloss: 0.03805175807163937\n",
      "weights: [19.86399945  2.29136684]\tloss: 0.03801635961204682\n",
      "weights: [19.86511254  2.28773976]\tloss: 0.03798177788508804\n",
      "weights: [19.86621271  2.28415478]\tloss: 0.037947994046660896\n",
      "weights: [19.86730011  2.28061139]\tloss: 0.03791498968744434\n",
      "weights: [19.86837489  2.27710912]\tloss: 0.03788274682286755\n",
      "weights: [19.86943721  2.27364748]\tloss: 0.0378512478833093\n",
      "weights: [19.87048719  2.27022602]\tloss: 0.03782047570452442\n",
      "weights: [19.871525    2.26684425]\tloss: 0.037790413518290655\n",
      "weights: [19.87255076  2.26350173]\tloss: 0.03776104494327118\n",
      "weights: [19.87356462  2.26019799]\tloss: 0.03773235397608844\n",
      "weights: [19.87456671  2.25693259]\tloss: 0.037704324982603565\n",
      "weights: [19.87555718  2.25370508]\tloss: 0.03767694268939726\n",
      "weights: [19.87653615  2.25051501]\tloss: 0.03765019217544646\n",
      "weights: [19.87750376  2.24736197]\tloss: 0.037624058863994544\n",
      "weights: [19.87846015  2.24424551]\tloss: 0.037598528514607696\n",
      "weights: [19.87940544  2.24116521]\tloss: 0.03757358721541511\n",
      "weights: [19.88033975  2.23812066]\tloss: 0.037549221375528234\n",
      "weights: [19.88126323  2.23511143]\tloss: 0.03752541771763511\n",
      "weights: [19.88217599  2.23213712]\tloss: 0.03750216327076496\n",
      "weights: [19.88307817  2.22919733]\tloss: 0.037479445363220565\n",
      "weights: [19.88396987  2.22629164]\tloss: 0.03745725161567306\n",
      "weights: [19.88485122  2.22341968]\tloss: 0.037435569934415804\n",
      "weights: [19.88572235  2.22058103]\tloss: 0.03741438850477534\n",
      "weights: [19.88658337  2.21777533]\tloss: 0.0373936957846725\n",
      "weights: [19.8874344   2.21500218]\tloss: 0.03737348049833333\n",
      "weights: [19.88827556  2.21226121]\tloss: 0.03735373163014473\n",
      "weights: [19.88910695  2.20955205]\tloss: 0.0373344384186519\n",
      "weights: [19.8899287   2.20687432]\tloss: 0.03731559035069418\n",
      "weights: [19.89074091  2.20422766]\tloss: 0.03729717715567613\n",
      "weights: [19.8915437   2.20161172]\tloss: 0.03727918879997142\n",
      "weights: [19.89233717  2.19902613]\tloss: 0.03726161548145489\n",
      "weights: [19.89312143  2.19647054]\tloss: 0.037244447624161355\n",
      "weights: [19.8938966  2.1939446]\tloss: 0.037227675873067495\n",
      "weights: [19.89466277  2.19144798]\tloss: 0.037211291088994375\n",
      "weights: [19.89542005  2.18898032]\tloss: 0.03719528434362707\n",
      "weights: [19.89616854  2.1865413 ]\tloss: 0.03717964691464958\n",
      "weights: [19.89690835  2.18413058]\tloss: 0.03716437028099211\n",
      "weights: [19.89763957  2.18174783]\tloss: 0.03714944611818759\n",
      "weights: [19.89836231  2.17939273]\tloss: 0.03713486629383549\n",
      "weights: [19.89907666  2.17706496]\tloss: 0.03712062286317065\n",
      "weights: [19.89978272  2.1747642 ]\tloss: 0.03710670806473374\n",
      "weights: [19.90048059  2.17249014]\tloss: 0.03709311431614224\n",
      "weights: [19.90117036  2.17024246]\tloss: 0.03707983420995827\n",
      "weights: [19.90185213  2.16802086]\tloss: 0.03706686050965271\n",
      "weights: [19.90252599  2.16582505]\tloss: 0.03705418614566117\n",
      "weights: [19.90319202  2.16365471]\tloss: 0.037041804211532595\n",
      "weights: [19.90385033  2.16150956]\tloss: 0.037029707960165005\n",
      "weights: [19.904501    2.15938929]\tloss: 0.03701789080012962\n",
      "weights: [19.90514413  2.15729363]\tloss: 0.03700634629207819\n",
      "weights: [19.90577978  2.15522229]\tloss: 0.036995068145235066\n",
      "weights: [19.90640807  2.15317498]\tloss: 0.0369840502139686\n",
      "weights: [19.90702906  2.15115143]\tloss: 0.03697328649444267\n",
      "weights: [19.90764284  2.14915136]\tloss: 0.03696277112134473\n",
      "weights: [19.90824951  2.1471745 ]\tloss: 0.03695249836469014\n",
      "weights: [19.90884913  2.14522057]\tloss: 0.036942462626699514\n",
      "weights: [19.9094418   2.14328932]\tloss: 0.036932658438748586\n",
      "weights: [19.91002759  2.14138048]\tloss: 0.036923080458388095\n",
      "weights: [19.91060658  2.13949379]\tloss: 0.03691372346643262\n",
      "weights: [19.91117885  2.13762899]\tloss: 0.03690458236411675\n",
      "weights: [19.91174449  2.13578583]\tloss: 0.036895652170316685\n",
      "weights: [19.91230356  2.13396405]\tloss: 0.03688692801883556\n",
      "weights: [19.91285614  2.13216342]\tloss: 0.03687840515575226\n",
      "weights: [19.91340231  2.13038367]\tloss: 0.03687007893683081\n",
      "weights: [19.91394214  2.12862458]\tloss: 0.036861944824989376\n",
      "weights: [19.91447571  2.12688591]\tloss: 0.03685399838782822\n",
      "weights: [19.91500309  2.1251674 ]\tloss: 0.03684623529521445\n",
      "weights: [19.91552435  2.12346884]\tloss: 0.03683865131692242\n",
      "weights: [19.91603956  2.12178999]\tloss: 0.036831242320328375\n",
      "weights: [19.91654879  2.12013061]\tloss: 0.03682400426815874\n",
      "weights: [19.91705211  2.1184905 ]\tloss: 0.036816933216290273\n",
      "weights: [19.9175496   2.11686941]\tloss: 0.03681002531160071\n",
      "weights: [19.91804131  2.11526713]\tloss: 0.036803276789868965\n",
      "weights: [19.91852731  2.11368345]\tloss: 0.0367966839737241\n",
      "weights: [19.91900768  2.11211814]\tloss: 0.036790243270641725\n",
      "weights: [19.91948247  2.110571  ]\tloss: 0.03678395117098602\n",
      "weights: [19.91995175  2.1090418 ]\tloss: 0.0367778042460972\n",
      "weights: [19.92041559  2.10753036]\tloss: 0.03677179914642387\n",
      "weights: [19.92087404  2.10603645]\tloss: 0.036765932599696814\n",
      "weights: [19.92132717  2.10455987]\tloss: 0.03676020140914672\n",
      "weights: [19.92177505  2.10310043]\tloss: 0.03675460245176184\n",
      "weights: [19.92221773  2.10165793]\tloss: 0.036749132676586124\n",
      "weights: [19.92265527  2.10023216]\tloss: 0.036743789103056895\n",
      "weights: [19.92308774  2.09882293]\tloss: 0.036738568819380805\n",
      "weights: [19.92351519  2.09743006]\tloss: 0.03673346898094686\n",
      "weights: [19.92393767  2.09605335]\tloss: 0.03672848680877643\n",
      "weights: [19.92435526  2.09469262]\tloss: 0.03672361958800924\n",
      "weights: [19.924768    2.09334767]\tloss: 0.03671886466642338\n",
      "weights: [19.92517595  2.09201833]\tloss: 0.036714219452990915\n",
      "weights: [19.92557917  2.09070442]\tloss: 0.03670968141646515\n",
      "weights: [19.9259777   2.08940575]\tloss: 0.03670524808400169\n",
      "weights: [19.92637162  2.08812215]\tloss: 0.036700917039811536\n",
      "weights: [19.92676096  2.08685344]\tloss: 0.03669668592384321\n",
      "weights: [19.92714579  2.08559946]\tloss: 0.03669255243049831\n",
      "weights: [19.92752615  2.08436003]\tloss: 0.03668851430737417\n",
      "weights: [19.92790209  2.08313498]\tloss: 0.03668456935403688\n",
      "weights: [19.92827368  2.08192414]\tloss: 0.036680715420822144\n",
      "weights: [19.92864095  2.08072736]\tloss: 0.03667695040766396\n",
      "weights: [19.92900396  2.07954446]\tloss: 0.03667327226294984\n",
      "weights: [19.92936276  2.07837529]\tloss: 0.036669678982403704\n",
      "weights: [19.92971739  2.07721968]\tloss: 0.03666616860799312\n",
      "weights: [19.93006791  2.07607748]\tloss: 0.036662739226862126\n",
      "weights: [19.93041436  2.07494854]\tloss: 0.03665938897028952\n",
      "weights: [19.9307568  2.0738327]\tloss: 0.03665611601267023\n",
      "weights: [19.93109525  2.0727298 ]\tloss: 0.03665291857052052\n",
      "weights: [19.93142979  2.0716397 ]\tloss: 0.03664979490150611\n",
      "weights: [19.93176044  2.07056226]\tloss: 0.0366467433034928\n"
     ]
    },
    {
     "name": "stdout",
     "output_type": "stream",
     "text": [
      "weights: [19.93208725  2.06949731]\tloss: 0.03664376211361898\n",
      "weights: [19.93241027  2.06844472]\tloss: 0.03664084970738972\n",
      "weights: [19.93272954  2.06740434]\tloss: 0.03663800449779087\n",
      "weights: [19.93304511  2.06637604]\tloss: 0.03663522493442521\n",
      "weights: [19.93335702  2.06535967]\tloss: 0.03663250950266677\n",
      "weights: [19.9336653   2.06435509]\tloss: 0.03662985672283612\n",
      "weights: [19.93397001  2.06336217]\tloss: 0.03662726514939352\n",
      "weights: [19.93427119  2.06238077]\tloss: 0.03662473337015192\n",
      "weights: [19.93456887  2.06141076]\tloss: 0.03662226000550659\n",
      "weights: [19.93486309  2.060452  ]\tloss: 0.036619843707684105\n",
      "weights: [19.9351539   2.05950437]\tloss: 0.03661748316000747\n",
      "weights: [19.93544134  2.05856773]\tloss: 0.03661517707617881\n",
      "weights: [19.93572544  2.05764197]\tloss: 0.03661292419957833\n",
      "weights: [19.93600625  2.05672694]\tloss: 0.03661072330257986\n",
      "weights: [19.93628379  2.05582254]\tloss: 0.036608573185881524\n",
      "weights: [19.93655812  2.05492862]\tloss: 0.03660647267785246\n",
      "weights: [19.93682926  2.05404508]\tloss: 0.03660442063389425\n",
      "weights: [19.93709726  2.05317179]\tloss: 0.03660241593581736\n",
      "weights: [19.93736214  2.05230864]\tloss: 0.03660045749123175\n",
      "weights: [19.93762396  2.0514555 ]\tloss: 0.036598544232951516\n",
      "weights: [19.93788273  2.05061226]\tloss: 0.036596675118413476\n",
      "weights: [19.93813851  2.04977881]\tloss: 0.036594849129108965\n",
      "weights: [19.93839131  2.04895502]\tloss: 0.0365930652700292\n",
      "weights: [19.93864118  2.0481408 ]\tloss: 0.036591322569122335\n",
      "weights: [19.93888815  2.04733602]\tloss: 0.0365896200767647\n",
      "weights: [19.93913226  2.04654058]\tloss: 0.03658795686524252\n",
      "weights: [19.93937353  2.04575437]\tloss: 0.036586332028246876\n",
      "weights: [19.93961201  2.04497729]\tloss: 0.036584744680379734\n",
      "weights: [19.93984771  2.04420922]\tloss: 0.03658319395667138\n"
     ]
    }
   ],
   "source": [
    "learned_w = linear_regression(x_train, y_train, 0.4, 0.001)"
   ]
  },
  {
   "cell_type": "code",
   "execution_count": 20,
   "metadata": {
    "scrolled": true
   },
   "outputs": [
    {
     "data": {
      "text/plain": [
       "[<matplotlib.lines.Line2D at 0x24f84ed8fa0>]"
      ]
     },
     "execution_count": 20,
     "metadata": {},
     "output_type": "execute_result"
    },
    {
     "data": {
      "image/png": "[encoded data removed]",
      "text/plain": [
       "<Figure size 432x288 with 1 Axes>"
      ]
     },
     "metadata": {
      "needs_background": "light"
     },
     "output_type": "display_data"
    }
   ],
   "source": [
    "plt.scatter(x_train, y_train)\n",
    "\n",
    "x = np.linspace(0, 1, 2)\n",
    "plt.plot(x, model(x, learned_w), c='r')"
   ]
  },
  {
   "cell_type": "code",
   "execution_count": 21,
   "metadata": {},
   "outputs": [
    {
     "data": {
      "text/plain": [
       "[<matplotlib.lines.Line2D at 0x24f84f385e0>]"
      ]
     },
     "execution_count": 21,
     "metadata": {},
     "output_type": "execute_result"
    },
    {
     "data": {
      "image/png": "[encoded data removed]",
      "text/plain": [
       "<Figure size 432x288 with 1 Axes>"
      ]
     },
     "metadata": {
      "needs_background": "light"
     },
     "output_type": "display_data"
    }
   ],
   "source": [
    "plt.scatter(x_test, y_test)\n",
    "\n",
    "x = np.linspace(0, 1, 2)\n",
    "plt.plot(x, model(x, learned_w), c='r')"
   ]
  },
  {
   "cell_type": "code",
   "execution_count": 22,
   "metadata": {},
   "outputs": [
    {
     "data": {
      "text/plain": [
       "array([19.94008068,  2.04345006])"
      ]
     },
     "execution_count": 22,
     "metadata": {},
     "output_type": "execute_result"
    }
   ],
   "source": [
    "learned_w"
   ]
  },
  {
   "cell_type": "code",
   "execution_count": 23,
   "metadata": {},
   "outputs": [
    {
     "name": "stdout",
     "output_type": "stream",
     "text": [
      "train loss 0.036581679012109104\n",
      "test loss 0.03686667504328959\n"
     ]
    }
   ],
   "source": [
    "print(\"train loss\", cost(x_train, y_train, learned_w))\n",
    "print(\"test loss\", cost(x_test, y_test, learned_w))"
   ]
  },
  {
   "cell_type": "code",
   "execution_count": null,
   "metadata": {},
   "outputs": [],
   "source": []
  }
 ],
 "metadata": {
  "kernelspec": {
   "display_name": "Python 3",
   "language": "python",
   "name": "python3"
  },
  "language_info": {
   "codemirror_mode": {
    "name": "ipython",
    "version": 3
   },
   "file_extension": ".py",
   "mimetype": "text/x-python",
   "name": "python",
   "nbconvert_exporter": "python",
   "pygments_lexer": "ipython3",
   "version": "3.9.1"
  }
 },
 "nbformat": 4,
 "nbformat_minor": 4
}
