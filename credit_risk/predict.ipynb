{
 "metadata": {
  "orig_nbformat": 2,
  "kernelspec": {
   "name": "envml",
   "display_name": "Python ML",
   "language": "python"
  }
 },
 "nbformat": 4,
 "nbformat_minor": 2,
 "cells": [
  {
   "cell_type": "code",
   "execution_count": 1,
   "metadata": {},
   "outputs": [],
   "source": [
    "%load_ext autoreload\n",
    "%autoreload 2"
   ]
  },
  {
   "cell_type": "code",
   "execution_count": 28,
   "metadata": {},
   "outputs": [],
   "source": [
    "import pickle\n",
    "from pathlib import Path\n",
    "import pandas as pd\n",
    "\n",
    "from ML.credit_risk.pipeline.data_operations import *\n",
    "from ML.credit_risk.pipeline.read_data import read_data_train, read_data_test\n",
    "from ML.credit_risk.pipeline import make_train_pipeline, get_predict_pipeline\n",
    "\n",
    "\n",
    "model_path = Path(\"ML/credit_risk/xgboost_roc_auc_0-63.model\")"
   ]
  },
  {
   "cell_type": "code",
   "execution_count": 29,
   "metadata": {},
   "outputs": [],
   "source": [
    "model = pickle.load(model_path.open(\"rb\"))"
   ]
  },
  {
   "cell_type": "code",
   "execution_count": 30,
   "metadata": {},
   "outputs": [],
   "source": [
    "data_estimate = read_data_test()\n",
    "data_train = read_data_train()"
   ]
  },
  {
   "cell_type": "code",
   "execution_count": 31,
   "metadata": {},
   "outputs": [],
   "source": [
    "train_transform = make_train_pipeline()\n",
    "train_transform.fit(data_train.copy(deep=True))\n",
    "data_estimate_tr = get_predict_pipeline(train_transform).transform(data_estimate.copy(deep=True))"
   ]
  },
  {
   "cell_type": "code",
   "execution_count": 32,
   "metadata": {},
   "outputs": [],
   "source": [
    "data_estimate_tr.set_index(\"SK_ID_CURR\", inplace=True)"
   ]
  },
  {
   "cell_type": "code",
   "execution_count": 33,
   "metadata": {},
   "outputs": [
    {
     "output_type": "execute_result",
     "data": {
      "text/plain": [
       "48744"
      ]
     },
     "metadata": {},
     "execution_count": 33
    }
   ],
   "source": [
    "len(data_estimate_tr)"
   ]
  },
  {
   "cell_type": "code",
   "execution_count": 35,
   "metadata": {},
   "outputs": [
    {
     "output_type": "stream",
     "name": "stderr",
     "text": [
      "D:\\coding\\Jupyter_notebooks\\envML\\lib\\site-packages\\xgboost\\data.py:112: UserWarning: Use subset (sliced data) of np.ndarray is not recommended because it will generate extra copies and increase memory consumption\n  warnings.warn(\n"
     ]
    },
    {
     "output_type": "execute_result",
     "data": {
      "text/plain": [
       "array([0, 0, 0, ..., 0, 0, 0], dtype=int8)"
      ]
     },
     "metadata": {},
     "execution_count": 35
    }
   ],
   "source": [
    "result = pd.DataFrame(index=data_estimate_tr.index)\n",
    "\n",
    "prediction = model.predict(data_estimate_tr)\n",
    "result[\"TARGET\"] = prediction\n",
    "prediction"
   ]
  },
  {
   "cell_type": "code",
   "execution_count": 37,
   "metadata": {},
   "outputs": [],
   "source": [
    "result.to_csv(\"ML/credit_risk/predictions.csv\")"
   ]
  },
  {
   "cell_type": "code",
   "execution_count": null,
   "metadata": {},
   "outputs": [],
   "source": []
  }
 ]
}