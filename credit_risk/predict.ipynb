{
 "metadata": {
  "orig_nbformat": 2,
  "kernelspec": {
   "name": "envml",
   "display_name": "Python ML",
   "language": "python"
  }
 },
 "nbformat": 4,
 "nbformat_minor": 2,
 "cells": [
  {
   "cell_type": "code",
   "execution_count": 10,
   "metadata": {},
   "outputs": [
    {
     "output_type": "stream",
     "name": "stdout",
     "text": [
      "The autoreload extension is already loaded. To reload it, use:\n  %reload_ext autoreload\n"
     ]
    }
   ],
   "source": [
    "%load_ext autoreload\n",
    "%autoreload 2"
   ]
  },
  {
   "cell_type": "code",
   "execution_count": 12,
   "metadata": {},
   "outputs": [],
   "source": [
    "import pickle\n",
    "from pathlib import Path\n",
    "import pandas as pd\n",
    "\n",
    "from ML.credit_risk.pipeline.data_operations import *\n",
    "from ML.credit_risk.pipeline.read_data import read_data_train, read_data_test\n",
    "from ML.credit_risk.pipeline import make_train_pipeline, get_predict_pipeline\n",
    "\n",
    "model_path = Path(\"ML/credit_risk/random_forest.model\")"
   ]
  },
  {
   "cell_type": "code",
   "execution_count": 13,
   "metadata": {},
   "outputs": [],
   "source": [
    "model = pickle.load(model_path.open(\"rb\"))"
   ]
  },
  {
   "cell_type": "code",
   "execution_count": 14,
   "metadata": {},
   "outputs": [],
   "source": [
    "data_estimate = read_data_test()\n",
    "data_train = read_data_train()"
   ]
  },
  {
   "cell_type": "code",
   "execution_count": 15,
   "metadata": {},
   "outputs": [],
   "source": [
    "train_transform = make_train_pipeline()\n",
    "train_transform.fit(data_train.copy(deep=True))\n",
    "data_estimate_tr = get_predict_pipeline(train_transform).transform(data_estimate.copy(deep=True))"
   ]
  },
  {
   "cell_type": "code",
   "execution_count": 16,
   "metadata": {},
   "outputs": [],
   "source": [
    "data_estimate_tr.set_index(\"SK_ID_CURR\", inplace=True)"
   ]
  },
  {
   "cell_type": "code",
   "execution_count": 17,
   "metadata": {},
   "outputs": [
    {
     "output_type": "execute_result",
     "data": {
      "text/plain": [
       "48744"
      ]
     },
     "metadata": {},
     "execution_count": 17
    }
   ],
   "source": [
    "len(data_estimate_tr)"
   ]
  },
  {
   "cell_type": "code",
   "execution_count": 30,
   "metadata": {},
   "outputs": [
    {
     "output_type": "execute_result",
     "data": {
      "text/plain": [
       "array([[0.48441913, 0.51558087],\n",
       "       [0.46013701, 0.53986299],\n",
       "       [0.49598163, 0.50401837],\n",
       "       ...,\n",
       "       [0.49422612, 0.50577388],\n",
       "       [0.49039589, 0.50960411],\n",
       "       [0.47545571, 0.52454429]])"
      ]
     },
     "metadata": {},
     "execution_count": 30
    }
   ],
   "source": [
    "result = pd.DataFrame(index=data_estimate_tr.index)\n",
    "\n",
    "prediction = model.predict_proba(data_estimate_tr)\n",
    "result[\"TARGET\"] = prediction[:, 1]\n",
    "prediction"
   ]
  },
  {
   "cell_type": "code",
   "execution_count": 31,
   "metadata": {},
   "outputs": [],
   "source": [
    "result.to_csv(\"ML/credit_risk/predictions.csv\")"
   ]
  },
  {
   "cell_type": "code",
   "execution_count": null,
   "metadata": {},
   "outputs": [],
   "source": []
  }
 ]
}