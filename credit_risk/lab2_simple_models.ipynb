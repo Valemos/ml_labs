{
 "cells": [
  {
   "cell_type": "code",
   "execution_count": 1,
   "outputs": [],
   "source": [
    "%load_ext autoreload\n",
    "%autoreload 2"
   ],
   "metadata": {
    "collapsed": false,
    "pycharm": {
     "name": "#%%\n"
    }
   }
  },
  {
   "cell_type": "code",
   "execution_count": 2,
   "outputs": [],
   "source": [
    "import numpy as np\n",
    "import pandas as pd\n",
    "import matplotlib.pyplot as plt\n",
    "import seaborn as sn\n",
    "\n",
    "from ML.credit_risk.pipeline.data_operations import *\n",
    "from ML.credit_risk.pipeline.read_data import read_data_train, read_data_test\n",
    "from ML.credit_risk.pipeline import make_prepare_pipeline, make_train_pipeline, get_predict_pipeline\n",
    "\n",
    "random_seed = 42"
   ],
   "metadata": {
    "collapsed": false,
    "pycharm": {
     "name": "#%%\n"
    }
   }
  },
  {
   "cell_type": "code",
   "execution_count": 3,
   "outputs": [],
   "source": [
    "data_original = read_data_train()"
   ],
   "metadata": {
    "collapsed": false,
    "pycharm": {
     "name": "#%%\n"
    }
   }
  },
  {
   "cell_type": "code",
   "execution_count": 4,
   "outputs": [],
   "source": [
    "train_pipeline = make_train_pipeline()\n",
    "data_train = train_pipeline.fit_transform(data_original.copy(deep=True))"
   ],
   "metadata": {
    "collapsed": false,
    "pycharm": {
     "name": "#%%\n"
    }
   }
  },
  {
   "cell_type": "code",
   "execution_count": 12,
   "outputs": [],
   "source": [
    "from sklearn.linear_model import LogisticRegressionCV\n",
    "credit_default_model2 = LogisticRegressionCV()"
   ],
   "metadata": {
    "collapsed": false,
    "pycharm": {
     "name": "#%%\n"
    }
   }
  },
  {
   "cell_type": "code",
   "execution_count": 13,
   "outputs": [],
   "source": [
    "from sklearn.naive_bayes import ComplementNB\n",
    "credit_default_model3 = ComplementNB()"
   ],
   "metadata": {
    "collapsed": false,
    "pycharm": {
     "name": "#%%\n"
    }
   }
  },
  {
   "cell_type": "code",
   "execution_count": 5,
   "outputs": [],
   "source": [
    "from sklearn.ensemble import RandomForestClassifier\n",
    "credit_default_model4 = RandomForestClassifier(max_depth=5, n_estimators=100)"
   ],
   "metadata": {
    "collapsed": false,
    "pycharm": {
     "name": "#%%\n"
    }
   }
  },
  {
   "cell_type": "code",
   "execution_count": 10,
   "outputs": [],
   "source": [
    "y_columns = [\"TARGET\"]\n",
    "\n",
    "def train_model(model, x_train, x_test, y_train, y_test):\n",
    "    model.fit(x_train, y_train)\n",
    "    show_f1_score(model, x_test, y_test)\n",
    "\n",
    "def keras_train_model(model, x_train, x_test, y_train, y_test, batch_size=500, epochs=10):\n",
    "    history = model.fit(x_train, y_train, batch_size=batch_size, epochs=epochs, validation_split=0.2)\n",
    "    show_keras_history(history)\n",
    "    show_f1_score(model, x_test, y_test)\n",
    "\n",
    "def show_keras_history(history):\n",
    "    plt.plot(history.history['loss'])\n",
    "    plt.plot(history.history['val_loss'])\n",
    "    plt.show()"
   ],
   "metadata": {
    "collapsed": false,
    "pycharm": {
     "name": "#%%\n"
    }
   }
  },
  {
   "cell_type": "code",
   "execution_count": 15,
   "outputs": [
    {
     "output_type": "stream",
     "name": "stderr",
     "text": [
      "D:\\coding\\Jupyter_notebooks\\envML\\lib\\site-packages\\sklearn\\utils\\validation.py:63: DataConversionWarning: A column-vector y was passed when a 1d array was expected. Please change the shape of y to (n_samples, ), for example using ravel().\n",
      "  return f(*args, **kwargs)\n",
      "true positive: 0\n",
      "true negative: 56538\n",
      "false positive: 0\n",
      "false negative: 4965\n",
      "f1 score: 0\n"
     ]
    }
   ],
   "source": [
    "train_model(credit_default_model2, *split_train_data(data_train, y_columns, random_seed))"
   ],
   "metadata": {
    "collapsed": false,
    "pycharm": {
     "name": "#%%\n"
    }
   }
  },
  {
   "cell_type": "code",
   "execution_count": 16,
   "outputs": [
    {
     "output_type": "stream",
     "name": "stdout",
     "text": [
      "true positive: 2669\n",
      "true negative: 26261\n",
      "false positive: 30277\n",
      "false negative: 2296\n",
      "f1 score: 0.14080346073698924\n",
      "D:\\coding\\Jupyter_notebooks\\envML\\lib\\site-packages\\sklearn\\utils\\validation.py:63: DataConversionWarning: A column-vector y was passed when a 1d array was expected. Please change the shape of y to (n_samples, ), for example using ravel().\n",
      "  return f(*args, **kwargs)\n"
     ]
    }
   ],
   "source": [
    "train_model(credit_default_model3, *split_train_data(data_train, y_columns, random_seed))"
   ],
   "metadata": {
    "collapsed": false,
    "pycharm": {
     "name": "#%%\n"
    }
   }
  },
  {
   "cell_type": "code",
   "execution_count": 17,
   "outputs": [
    {
     "output_type": "stream",
     "name": "stderr",
     "text": [
      "<ipython-input-8-4d39b3ef7808>:4: DataConversionWarning: A column-vector y was passed when a 1d array was expected. Please change the shape of y to (n_samples,), for example using ravel().\n",
      "  model.fit(x_train, y_train)\n",
      "true positive: 0\n",
      "true negative: 56538\n",
      "false positive: 0\n",
      "false negative: 4965\n",
      "f1 score: 0\n"
     ]
    }
   ],
   "source": [
    "train_model(credit_default_model4, *split_train_data(data_train, y_columns, random_seed))"
   ],
   "metadata": {
    "collapsed": false,
    "pycharm": {
     "name": "#%%\n"
    }
   }
  },
  {
   "cell_type": "code",
   "execution_count": 11,
   "outputs": [],
   "source": [
    "from ML.credit_risk.pipeline import UpsampleByTarget\n",
    "\n",
    "x_tr, x_ts, y_tr, y_ts = split_train_data(data_train, y_columns, random_seed)\n",
    "data_upsampled = UpsampleByTarget(y_columns[0]).transform(pd.concat([x_tr, y_tr], axis=\"columns\"))\n",
    "\n",
    "x_tr_upsampled, y_tr_upsampled = get_data_xy(data_upsampled, y_columns)"
   ],
   "metadata": {
    "collapsed": false,
    "pycharm": {
     "name": "#%%\n"
    }
   }
  },
  {
   "cell_type": "code",
   "execution_count": 19,
   "outputs": [
    {
     "output_type": "stream",
     "name": "stderr",
     "text": [
      "D:\\coding\\Jupyter_notebooks\\envML\\lib\\site-packages\\sklearn\\utils\\validation.py:63: DataConversionWarning: A column-vector y was passed when a 1d array was expected. Please change the shape of y to (n_samples, ), for example using ravel().\n",
      "  return f(*args, **kwargs)\n",
      "true positive: 415\n",
      "true negative: 51202\n",
      "false positive: 5336\n",
      "false negative: 4550\n",
      "f1 score: 0.07745427398282942\n"
     ]
    }
   ],
   "source": [
    "train_model(credit_default_model2, x_tr_upsampled, x_ts, y_tr_upsampled, y_ts)"
   ],
   "metadata": {
    "collapsed": false,
    "pycharm": {
     "name": "#%%\n"
    }
   }
  },
  {
   "cell_type": "code",
   "execution_count": 20,
   "outputs": [
    {
     "output_type": "stream",
     "name": "stdout",
     "text": [
      "true positive: 2659\n",
      "true negative: 26365\n",
      "false positive: 30173\n",
      "false negative: 2306\n",
      "f1 score: 0.14069899727491603\n",
      "D:\\coding\\Jupyter_notebooks\\envML\\lib\\site-packages\\sklearn\\utils\\validation.py:63: DataConversionWarning: A column-vector y was passed when a 1d array was expected. Please change the shape of y to (n_samples, ), for example using ravel().\n",
      "  return f(*args, **kwargs)\n"
     ]
    }
   ],
   "source": [
    "train_model(credit_default_model3, x_tr_upsampled, x_ts, y_tr_upsampled, y_ts)"
   ],
   "metadata": {
    "collapsed": false,
    "pycharm": {
     "name": "#%%\n"
    }
   }
  },
  {
   "cell_type": "code",
   "execution_count": 12,
   "outputs": [
    {
     "output_type": "stream",
     "name": "stderr",
     "text": [
      "<ipython-input-10-4d39b3ef7808>:4: DataConversionWarning: A column-vector y was passed when a 1d array was expected. Please change the shape of y to (n_samples,), for example using ravel().\n",
      "  model.fit(x_train, y_train)\n",
      "true positive: 3403\n",
      "true negative: 36913\n",
      "false positive: 19625\n",
      "false negative: 1562\n",
      "f1 score: 0.24313221162433465\n"
     ]
    }
   ],
   "source": [
    "train_model(credit_default_model4, x_tr_upsampled, x_ts, y_tr_upsampled, y_ts)"
   ],
   "metadata": {
    "collapsed": false,
    "pycharm": {
     "name": "#%%\n"
    }
   }
  },
  {
   "cell_type": "code",
   "execution_count": 22,
   "outputs": [
    {
     "output_type": "stream",
     "name": "stdout",
     "text": [
      "true positive: 15706\ntrue negative: 160328\nfalse positive: 122358\nfalse negative: 9119\nf1 score: 0.19284297896113306\n"
     ]
    }
   ],
   "source": [
    "show_f1_score(credit_default_model4, *get_data_xy(data_train, y_columns))"
   ],
   "metadata": {
    "collapsed": false,
    "pycharm": {
     "name": "#%%\n"
    }
   }
  },
  {
   "cell_type": "code",
   "execution_count": 23,
   "outputs": [
    {
     "output_type": "execute_result",
     "data": {
      "text/plain": [
       "(0.5145010175607085,\n",
       " array([0.51912463, 0.51861958, 0.51664599, 0.51415799, 0.51248287,\n",
       "        0.51147771, 0.50977293, 0.5111657 , 0.51319222, 0.51837056]))"
      ]
     },
     "metadata": {},
     "execution_count": 23
    }
   ],
   "source": [
    "cross_validate(credit_default_model2, x_tr_upsampled, y_tr_upsampled, random_state=random_seed)"
   ],
   "metadata": {
    "collapsed": false,
    "pycharm": {
     "name": "#%%\n"
    }
   }
  },
  {
   "cell_type": "code",
   "execution_count": 24,
   "metadata": {},
   "outputs": [
    {
     "output_type": "execute_result",
     "data": {
      "text/plain": [
       "(0.5059378477229585,\n",
       " array([0.50931625, 0.50850807, 0.50911728, 0.50820081, 0.500283  ,\n",
       "        0.50281677, 0.50140446, 0.50527104, 0.50532198, 0.50913883]))"
      ]
     },
     "metadata": {},
     "execution_count": 24
    }
   ],
   "source": [
    "cross_validate(credit_default_model3, x_tr_upsampled, y_tr_upsampled, random_state=random_seed)"
   ]
  },
  {
   "cell_type": "code",
   "execution_count": 9,
   "metadata": {},
   "outputs": [],
   "source": [
    "cross_validate(credit_default_model4, x_tr_upsampled, y_tr_upsampled, random_state=random_seed)"
   ]
  },
  {
   "cell_type": "code",
   "execution_count": 13,
   "metadata": {},
   "outputs": [],
   "source": [
    "import pickle\n",
    "from pathlib import Path\n",
    "\n",
    "model_path = Path(\"ML/credit_risk/random_forest.model\")"
   ]
  },
  {
   "cell_type": "code",
   "execution_count": 15,
   "metadata": {},
   "outputs": [],
   "source": [
    "pickle.dump(credit_default_model4, model_path.open(\"wb\"))"
   ]
  },
  {
   "cell_type": "code",
   "execution_count": 54,
   "metadata": {},
   "outputs": [],
   "source": []
  }
 ],
 "metadata": {
  "kernelspec": {
   "display_name": "Python ML",
   "language": "python",
   "name": "envml"
  }
 },
 "nbformat": 4,
 "nbformat_minor": 4
}